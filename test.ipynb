{
 "cells": [
  {
   "cell_type": "code",
   "execution_count": 34,
   "metadata": {},
   "outputs": [],
   "source": [
    "import os\n",
    "from pymongo import MongoClient\n",
    "from dotenv import load_dotenv\n",
    "\n",
    "load_dotenv()\n",
    "\n",
    "MONGO_URL = os.getenv(\"CLIENT_URL\")\n",
    "DB_NAME = \"migracion\"\n",
    "COLLECTION_NAME = \"documentos\""
   ]
  },
  {
   "cell_type": "code",
   "execution_count": 2,
   "metadata": {},
   "outputs": [],
   "source": [
    "from langchain_openai import OpenAIEmbeddings\n",
    "\n",
    "client = MongoClient(MONGO_URL)\n",
    "db = client[DB_NAME]\n",
    "collection = db[COLLECTION_NAME]\n",
    "\n",
    "# Convertir los textos en embeddings\n",
    "embeddings_model = OpenAIEmbeddings()"
   ]
  },
  {
   "cell_type": "code",
   "execution_count": 3,
   "metadata": {},
   "outputs": [],
   "source": [
    "from openai import OpenAI\n",
    "\n",
    "client = OpenAI()\n",
    "embeddings_name = \"text-embedding-3-small\"\n",
    "\n",
    "def generate_embeddings(text: str) -> list[float]:\n",
    "    response = client.embeddings.create(\n",
    "        input=text,\n",
    "        model=embeddings_name\n",
    "    )\n",
    "    return response.data[0].embedding"
   ]
  },
  {
   "cell_type": "code",
   "execution_count": 31,
   "metadata": {},
   "outputs": [],
   "source": [
    "from langchain.document_loaders import PyPDFLoader\n",
    "from langchain.text_splitter import RecursiveCharacterTextSplitter\n",
    "\n",
    "# Cargar el PDF\n",
    "# pdf_path = \"files/BOE-A-2009-17242.pdf\"\n",
    "pdf_path = \"files/BOE-A-2022-4978-consolidado.pdf\"\n",
    "# pdf_path = \"files/folleto_PI_espanol.pdf\"\n",
    "loader = PyPDFLoader(pdf_path)\n",
    "documents = loader.load()\n",
    "\n",
    "# Dividir el texto en fragmentos manejables\n",
    "text_splitter = RecursiveCharacterTextSplitter(chunk_size=1000, chunk_overlap=50)\n",
    "texts = text_splitter.split_documents(documents)"
   ]
  },
  {
   "cell_type": "code",
   "execution_count": 17,
   "metadata": {},
   "outputs": [
    {
     "data": {
      "text/plain": [
       "Document(metadata={'producer': 'Microsoft® Word para Microsoft 365', 'creator': 'Microsoft® Word para Microsoft 365', 'creationdate': '2023-10-13T10:02:28+02:00', 'author': 'Sergio Jiménez Fernández', 'moddate': '2023-10-13T10:02:28+02:00', 'source': 'files/folleto_PI_espanol.pdf', 'total_pages': 8, 'page': 0, 'page_label': '1'}, page_content='INFORMACIÓN PARA LOS \\nSOLICITANTES DE PROTECCIÓN \\nINTERNACIONAL EN ESPAÑA: \\nDERECHO DE ASILO  \\nY PROTECCIÓN SUBSIDIARIA \\n \\n \\n1 \\n \\n   \\n \\n \\n• A los refugiados , es decir , a las personas extranjeras de nacionalidad no comunitaria o \\napátridas que tengan un temor fundado a ser perseguidas en su país por motivos de raza, \\nreligión, nacionalidad, opiniones políticas, pertenencia a determinado grupo social, de \\ngénero u orientaci ón sexual y que no puedan o no quieran por ese motivo recibir la \\nprotección de las autoridades de su país. A los refugiados se les reconoce el derecho de \\nasilo. \\n \\n• A los extranjeros que no cumplan los requisitos para ser considerados refugiados pero que \\nno puedan regresar a su país de origen porque se enfrentarían a un riesgo real de sufrir \\nalguno de estos daños: \\no Condena a pena de muerte. \\no Tortura o tratos inhumanos o degradantes. \\no Amenazas graves contra la vida o la integridad como consecuencia de situaciones \\nde violencia indiscriminada.')"
      ]
     },
     "execution_count": 17,
     "metadata": {},
     "output_type": "execute_result"
    }
   ],
   "source": [
    "texts[0]"
   ]
  },
  {
   "cell_type": "code",
   "execution_count": 32,
   "metadata": {},
   "outputs": [
    {
     "name": "stdout",
     "output_type": "stream",
     "text": [
      "Embeddings almacenados en MongoDB correctamente.\n"
     ]
    }
   ],
   "source": [
    "# Guardar en MongoDB\n",
    "for text in texts:\n",
    "    embedding = generate_embeddings(text.page_content)\n",
    "    collection.insert_one({\n",
    "        \"text\": text.page_content,\n",
    "        \"embedding\": embedding,\n",
    "        \"metadata\": text.metadata\n",
    "    })\n",
    "\n",
    "print(\"Embeddings almacenados en MongoDB correctamente.\")"
   ]
  },
  {
   "cell_type": "code",
   "execution_count": null,
   "metadata": {},
   "outputs": [
    {
     "name": "stdout",
     "output_type": "stream",
     "text": [
      "Embeddings almacenados en MongoDB correctamente.\n"
     ]
    }
   ],
   "source": [
    "\n",
    "embeddings = embeddings_model.embed_documents([t.page_content for t in texts])\n",
    "\n",
    "# Guardar en MongoDB\n",
    "for i, (text, embedding) in enumerate(zip(texts, embeddings)):\n",
    "    collection.insert_one({\n",
    "        \"text\": text.page_content,\n",
    "        \"embedding\": embedding,\n",
    "        \"metadata\": text.metadata\n",
    "    })\n",
    "\n",
    "print(\"Embeddings almacenados en MongoDB correctamente.\")"
   ]
  },
  {
   "cell_type": "code",
   "execution_count": null,
   "metadata": {},
   "outputs": [],
   "source": [
    "from src.db.mongo import MongoRepository\n",
    "\n",
    "mongo_repo = MongoRepository()"
   ]
  },
  {
   "cell_type": "code",
   "execution_count": 4,
   "metadata": {},
   "outputs": [],
   "source": [
    "from langchain_mongodb.vectorstores import MongoDBAtlasVectorSearch\n",
    "\n",
    "vectore_store = MongoDBAtlasVectorSearch.from_connection_string(\n",
    "            connection_string=MONGO_URL or \"\",\n",
    "            namespace=f\"{DB_NAME}.{COLLECTION_NAME}\",\n",
    "            embedding=embeddings_model,\n",
    "        )"
   ]
  },
  {
   "cell_type": "code",
   "execution_count": 5,
   "metadata": {},
   "outputs": [
    {
     "data": {
      "text/plain": [
       "[Document(metadata={'_id': '67b24b3066b11d0008239a47', 'metadata': {'producer': 'Antenna House PDF Output Library 6.6.1477 (Linux64)', 'creator': 'AH XSL Formatter V6.6 MR7 for Linux64 : 6.6.9.39847 (2019-07-29T09:58+09)', 'creationdate': '2025-02-13T08:28:50+01:00', 'title': 'Real Decreto 220/2022, de 29 de marzo, por el que se aprueba el Reglamento por el que se regula el sistema de acogida en materia de protección internacional.', 'author': 'Agencia Estatal Boletín Oficial del Estado', 'subject': 'BOE-A-2022-4978 actualizado a 30 de marzo de 2022', 'keywords': 'BOE-A-2022-4978; BOE; Legislación consolidada; Agencia Estatal Boletín Oficial del Estado', 'moddate': '2025-02-13T08:28:50+01:00', 'trapped': '/False', 'source': 'files/BOE-A-2022-4978-consolidado.pdf', 'total_pages': 28, 'page': 21, 'page_label': '22'}}, page_content='2. Cuando se produzca demora en las prestaciones o servicios por parte de la entidad \\nautorizada, el órgano de concertación podrá conceder una ampliación del plazo de duración \\nde la autorización, sin perjuicio de las penalidades que en su caso procedan, previstas en las \\nnormas de desarrollo del presente reglamento, siempre que sean imputables a la \\nresponsabilidad de la entidad.\\n3. La duración total de la autorización, incluida la posible prórroga, no podrá ser superior \\na ocho años, sin perjuicio de que la entidad concertada tenga la posibilidad de ser autorizada \\nnuevamente para la prestación de los servicios.\\n4. Para la prórroga se requerirá, además del mutuo acuerdo de las partes, la evaluación \\npositiva de la actividad realizada, según se establece en el artículo 47 de este reglamento.\\nCAPÍTULO II\\nRequisitos para la obtención de la autorización de acción concertada\\nArtículo 38.  Requisitos exigibles.'),\n",
       " Document(metadata={'_id': '67b24b3c66b11d0008239a5e', 'metadata': {'producer': 'Antenna House PDF Output Library 6.6.1477 (Linux64)', 'creator': 'AH XSL Formatter V6.6 MR7 for Linux64 : 6.6.9.39847 (2019-07-29T09:58+09)', 'creationdate': '2025-02-13T08:28:50+01:00', 'title': 'Real Decreto 220/2022, de 29 de marzo, por el que se aprueba el Reglamento por el que se regula el sistema de acogida en materia de protección internacional.', 'author': 'Agencia Estatal Boletín Oficial del Estado', 'subject': 'BOE-A-2022-4978 actualizado a 30 de marzo de 2022', 'keywords': 'BOE-A-2022-4978; BOE; Legislación consolidada; Agencia Estatal Boletín Oficial del Estado', 'moddate': '2025-02-13T08:28:50+01:00', 'trapped': '/False', 'source': 'files/BOE-A-2022-4978-consolidado.pdf', 'total_pages': 28, 'page': 26, 'page_label': '27'}}, page_content='La financiación con cargo a fondos de la Unión Europea se regirá por las normas \\ncomunitarias aplicables a cada caso y por las normas nacionales de desarrollo o \\ntransposición.\\n2. En ningún caso podrá duplicarse la financiación pública para la realización de \\nidénticas prestaciones actuaciones y/o servicios en el ámbito temporal y material.\\nSe entenderá que se duplica la financiación cuando una entidad de carácter privado \\nautorizada para concertar obtenga fondos públicos a través de la acción concertada y por \\nsubvenciones, para la realización de actuaciones y/o servicios con características idénticas \\nprestados a las mismas personas destinatarias.\\nEn el caso de detectarse tal duplicidad en la financiación, esta será causa de revocación \\nde la autorización de acción concertada, y la entidad deberá reintegrar el importe total \\npercibido en concepto de retribución, más los intereses de demora correspondientes, desde'),\n",
       " Document(metadata={'_id': '67b24a1566b11d00082399aa', 'metadata': {'producer': 'Adobe PDF Library 8.0', 'creator': 'eBOE', 'creationdate': '2009-10-30T22:42:48+01:00', 'title': 'Disposición 17242 del BOE núm. 263 de 2009', 'keywords': 'LEY 12/2009 de 30/10/2009;JEFATURA DEL ESTADO;BOE-A-2009-17242;BOE 263 de 2009;17242;31/10/2009', 'moddate': '2009-10-30T23:49:30+01:00', 'trapped': '/False', 'subject': 'BOE-A-2009-17242', 'author': 'JEFATURA DEL ESTADO', 'source': 'files/BOE-A-2009-17242.pdf', 'total_pages': 25, 'page': 8, 'page_label': '9'}}, page_content='BOLETÍN OFICIAL DEL ESTADO\\nNúm. 263 Sábado 31 de octubre de 2009 Sec. I.   Pág. 90868\\n2. Lo dispuesto en los apartados anteriores se aplicará a quienes inciten a la comisión \\nde los delitos o actos mencionados en los mismos, o bien participen en su comisión.\\nArtículo 12. Causas de denegación.\\nEn todo caso, la protección subsidiaria se denegará a:\\na) las personas que constituyan, por razones fundadas, un peligro para la seguridad \\nde España;\\nb) las personas que, habiendo sido objeto de una condena firme por delito grave \\nconstituyan una amenaza para la comunidad.\\nCAPÍTULO III\\nDisposiciones comunes\\nArtículo 13. Agentes de persecución o causantes de daños graves.\\nLos agentes de persecución o causantes de daños graves podrán ser, entre otros:\\na) el Estado;\\nb) los partidos u organizaciones que controlen el Estado o una parte considerable de \\nsu territorio;\\nc) agentes no estatales, cuando los agentes mencionados en los puntos anteriores,'),\n",
       " Document(metadata={'_id': '67b24b3966b11d0008239a59', 'metadata': {'producer': 'Antenna House PDF Output Library 6.6.1477 (Linux64)', 'creator': 'AH XSL Formatter V6.6 MR7 for Linux64 : 6.6.9.39847 (2019-07-29T09:58+09)', 'creationdate': '2025-02-13T08:28:50+01:00', 'title': 'Real Decreto 220/2022, de 29 de marzo, por el que se aprueba el Reglamento por el que se regula el sistema de acogida en materia de protección internacional.', 'author': 'Agencia Estatal Boletín Oficial del Estado', 'subject': 'BOE-A-2022-4978 actualizado a 30 de marzo de 2022', 'keywords': 'BOE-A-2022-4978; BOE; Legislación consolidada; Agencia Estatal Boletín Oficial del Estado', 'moddate': '2025-02-13T08:28:50+01:00', 'trapped': '/False', 'source': 'files/BOE-A-2022-4978-consolidado.pdf', 'total_pages': 28, 'page': 25, 'page_label': '26'}}, page_content='4. Al finalizar el plazo de duración de la autorización se realizará una evaluación final \\nsobre el grado de cumplimiento de los objetivos, que servirá para determinar si procede la \\nprórroga de la autorización.\\nArtículo 48.  Cumplimiento defectuoso, incumplimiento o demora.\\n1. Las entidades autorizadas estarán obligadas a prestar los servicios en los términos y \\ncon las condiciones establecidas en este reglamento y sus normas de desarrollo.\\n2. Cuando la entidad autorizada, por causas imputables a la misma, hubiere incumplido \\nparcialmente los términos y condiciones para la prestación de los servicios, o de \\ncumplimiento defectuoso, la Administración podrá optar, atendidas las circunstancias del \\ncaso, por la revocación de la autorización o por la imposición de penalidades que para estos \\nsupuestos se determinen en la orden ministerial y que deberán ser proporcionadas a la \\ngravedad del incumplimiento.'),\n",
       " Document(metadata={'_id': '67b24b2e66b11d0008239a43', 'metadata': {'producer': 'Antenna House PDF Output Library 6.6.1477 (Linux64)', 'creator': 'AH XSL Formatter V6.6 MR7 for Linux64 : 6.6.9.39847 (2019-07-29T09:58+09)', 'creationdate': '2025-02-13T08:28:50+01:00', 'title': 'Real Decreto 220/2022, de 29 de marzo, por el que se aprueba el Reglamento por el que se regula el sistema de acogida en materia de protección internacional.', 'author': 'Agencia Estatal Boletín Oficial del Estado', 'subject': 'BOE-A-2022-4978 actualizado a 30 de marzo de 2022', 'keywords': 'BOE-A-2022-4978; BOE; Legislación consolidada; Agencia Estatal Boletín Oficial del Estado', 'moddate': '2025-02-13T08:28:50+01:00', 'trapped': '/False', 'source': 'files/BOE-A-2022-4978-consolidado.pdf', 'total_pages': 28, 'page': 20, 'page_label': '21'}}, page_content='TÍTULO V\\nGestión del sistema de acogida mediante acción concertada\\nCAPÍTULO I\\nDisposiciones generales\\nArtículo 33.  Objeto y finalidad de la acción concertada.\\n1. El objeto de la acción concertada es la prestación de los servicios del sistema de \\nacogida, en las condiciones establecidas en este reglamento.\\n2. Los servicios de acogida destinados a las personas incluidas en el ámbito subjetivo de \\naplicación del artículo 3, se podrán prestar por medio de la acción concertada regulada en el \\npresente título, de conformidad con lo establecido en el artículo 31.1 de la Ley 12/2009, de \\n30 de octubre.\\nArtículo 34.  Ámbito material de aplicación de la acción concertada.\\nEste título será de aplicación a la acción concertada del Ministerio de Inclusión, \\nSeguridad Social y Migraciones, para la atención de las personas destinatarias del \\nreglamento, con las entidades que cumplan los requisitos establecidos en el artículo 38.\\nArtículo 35.  Definiciones.'),\n",
       " Document(metadata={'_id': '67b24b0866b11d00082399f9', 'metadata': {'producer': 'Antenna House PDF Output Library 6.6.1477 (Linux64)', 'creator': 'AH XSL Formatter V6.6 MR7 for Linux64 : 6.6.9.39847 (2019-07-29T09:58+09)', 'creationdate': '2025-02-13T08:28:50+01:00', 'title': 'Real Decreto 220/2022, de 29 de marzo, por el que se aprueba el Reglamento por el que se regula el sistema de acogida en materia de protección internacional.', 'author': 'Agencia Estatal Boletín Oficial del Estado', 'subject': 'BOE-A-2022-4978 actualizado a 30 de marzo de 2022', 'keywords': 'BOE-A-2022-4978; BOE; Legislación consolidada; Agencia Estatal Boletín Oficial del Estado', 'moddate': '2025-02-13T08:28:50+01:00', 'trapped': '/False', 'source': 'files/BOE-A-2022-4978-consolidado.pdf', 'total_pages': 28, 'page': 2, 'page_label': '3'}}, page_content='Artículo 35. Definiciones...................................................... 21\\nArtículo 36. Principios rectores de la acción concertada. ................................. 21\\nArtículo 37. Duración. ....................................................... 21\\nCAPÍTULO II. Requisitos para la obtención de la autorización de acción concertada................. 22\\nArtículo 38. Requisitos exigibles. ................................................ 22\\nCAPÍTULO III. Procedimiento de acción concertada ..................................... 23\\nArtículo 39. Autorización para concertar. ........................................... 23\\nArtículo 40. Planificación de necesidades. .......................................... 23\\nArtículo 41. Comunicaciones de asignación a las entidades autorizadas. ...................... 23\\nArtículo 42. Cálculo de la retribución. ............................................. 23\\nArtículo 43. Iniciación e instrucción del procedimiento. .................................. 24'),\n",
       " Document(metadata={'_id': '67b24b3866b11d0008239a57', 'metadata': {'producer': 'Antenna House PDF Output Library 6.6.1477 (Linux64)', 'creator': 'AH XSL Formatter V6.6 MR7 for Linux64 : 6.6.9.39847 (2019-07-29T09:58+09)', 'creationdate': '2025-02-13T08:28:50+01:00', 'title': 'Real Decreto 220/2022, de 29 de marzo, por el que se aprueba el Reglamento por el que se regula el sistema de acogida en materia de protección internacional.', 'author': 'Agencia Estatal Boletín Oficial del Estado', 'subject': 'BOE-A-2022-4978 actualizado a 30 de marzo de 2022', 'keywords': 'BOE-A-2022-4978; BOE; Legislación consolidada; Agencia Estatal Boletín Oficial del Estado', 'moddate': '2025-02-13T08:28:50+01:00', 'trapped': '/False', 'source': 'files/BOE-A-2022-4978-consolidado.pdf', 'total_pages': 28, 'page': 24, 'page_label': '25'}}, page_content='octubre, reduciéndose a la mitad los plazos establecidos para el procedimiento ordinario, \\nsalvo los relativos a la presentación de solicitudes y recursos.\\n2. A tales efectos, el expediente deberá contener la declaración de urgencia realizada \\npor el órgano de concertación, debidamente motivada.\\nArtículo 46.  Tramitación anticipada de los expedientes de gasto.\\nDe conformidad con lo dispuesto en Ley 47/2003, de 26 de noviembre, General \\nPresupuestaria, la asignación de recursos a las entidades autorizadas podrá ultimarse \\nincluso con la comunicación de asignación aun cuando su ejecución, ya se realice en una o \\nen varias anualidades, deba iniciarse en el ejercicio siguiente. A estos efectos podrán \\ncomprometerse créditos con las limitaciones que se determinen en las normas \\npresupuestarias.\\nCAPÍTULO IV\\nSupervisión de la acción concertada\\nArtículo 47.  Supervisión.\\n1. Las entidades autorizadas estarán sometidas, en todo momento, a las actuaciones de')]"
      ]
     },
     "execution_count": 5,
     "metadata": {},
     "output_type": "execute_result"
    }
   ],
   "source": [
    "result = vectore_store.similarity_search(\"Cómo puedo realizar un asilo político?\",k=7)\n",
    "result"
   ]
  },
  {
   "cell_type": "code",
   "execution_count": 33,
   "metadata": {},
   "outputs": [
    {
     "name": "stdout",
     "output_type": "stream",
     "text": [
      "240\n"
     ]
    }
   ],
   "source": [
    "client = MongoClient(MONGO_URL)\n",
    "db = client[DB_NAME]\n",
    "collection = db[COLLECTION_NAME]\n",
    "\n",
    "print(collection.count_documents({})) "
   ]
  },
  {
   "cell_type": "markdown",
   "metadata": {},
   "source": [
    "## Resultados del BOE"
   ]
  },
  {
   "cell_type": "code",
   "execution_count": 54,
   "metadata": {},
   "outputs": [],
   "source": [
    "from langchain.document_loaders import PyPDFLoader\n",
    "from langchain.text_splitter import RecursiveCharacterTextSplitter\n",
    "\n",
    "# pdf_path = \"files/BOE-2024-11-01.pdf\"\n",
    "# pdf_path = \"files/BOE-2024-11-15.pdf\"\n",
    "pdf_path = \"files/BOE-2024-12-02.pdf\"\n",
    "loader = PyPDFLoader(pdf_path)\n",
    "documents = loader.load()\n"
   ]
  },
  {
   "cell_type": "code",
   "execution_count": 48,
   "metadata": {},
   "outputs": [],
   "source": [
    "from pydantic import BaseModel, Field\n",
    "\n",
    "class Resolucion(BaseModel):\n",
    "    nie: str = Field(description=\"Número de Identificación de Extranjero\", example=\"X1234567A\")\n",
    "    expediente: int = Field(description=\"Número de expediente\", example=123456)\n",
    "    tipo_archivo: str = Field(description=\"Tipo de archivo\", example=\"asilo\")\n",
    "    Num_resolucion: int = Field(description=\"Número de resolución del BOE\", example=260)\n",
    "    fecha_resolucion: str = Field(description=\"Fecha de resolución\", example=\"2024-01-11\")\n",
    "    pagina: int = Field(description=\"Página de la resolución\", example=1)\n",
    "\n",
    "class Resoluciones(BaseModel):\n",
    "    resoluciones: list[Resolucion]"
   ]
  },
  {
   "cell_type": "code",
   "execution_count": 63,
   "metadata": {},
   "outputs": [
    {
     "data": {
      "text/plain": [
       "{'properties': {'nie': {'description': 'Número de Identificación de Extranjero',\n",
       "   'example': 'X1234567A',\n",
       "   'title': 'Nie',\n",
       "   'type': 'string'},\n",
       "  'expediente': {'description': 'Número de expediente',\n",
       "   'example': 123456,\n",
       "   'title': 'Expediente',\n",
       "   'type': 'integer'},\n",
       "  'tipo_archivo': {'description': 'Tipo de archivo',\n",
       "   'example': 'asilo',\n",
       "   'title': 'Tipo Archivo',\n",
       "   'type': 'string'},\n",
       "  'Num_resolucion': {'description': 'Número de resolución del BOE',\n",
       "   'example': 260,\n",
       "   'title': 'Num Resolucion',\n",
       "   'type': 'integer'},\n",
       "  'fecha_resolucion': {'description': 'Fecha de resolución',\n",
       "   'example': '2024-01-11',\n",
       "   'title': 'Fecha Resolucion',\n",
       "   'type': 'string'},\n",
       "  'pagina': {'description': 'Página de la resolución',\n",
       "   'example': 1,\n",
       "   'title': 'Pagina',\n",
       "   'type': 'integer'}},\n",
       " 'required': ['nie',\n",
       "  'expediente',\n",
       "  'tipo_archivo',\n",
       "  'Num_resolucion',\n",
       "  'fecha_resolucion',\n",
       "  'pagina'],\n",
       " 'title': 'Resolucion',\n",
       " 'type': 'object'}"
      ]
     },
     "execution_count": 63,
     "metadata": {},
     "output_type": "execute_result"
    }
   ],
   "source": [
    "Resolucion.model_json_schema()"
   ]
  },
  {
   "cell_type": "code",
   "execution_count": 55,
   "metadata": {},
   "outputs": [],
   "source": [
    "from langchain_openai import ChatOpenAI\n",
    "\n",
    "\n",
    "prompt = \"\"\"\n",
    "    You are an expert in extract information from legal documents. \n",
    "    You have to extract the following information from the document:\n",
    "    \n",
    "    - NIE: X1234567A\n",
    "    - Expediente: 123456\n",
    "    - Tipo de archivo: asilo\n",
    "    - Número de resolución: 260\n",
    "    - Fecha de resolución: 2024-01-11\n",
    "    - Página: 1\n",
    "    \"\"\"\n",
    "\n",
    "\n",
    "model = ChatOpenAI(model=\"gpt-4o-mini\", temperature=0)\n",
    "structured_llm = model.with_structured_output(Resoluciones)"
   ]
  },
  {
   "cell_type": "code",
   "execution_count": 21,
   "metadata": {},
   "outputs": [],
   "source": [
    "response = structured_llm.invoke(documents[0].page_content)"
   ]
  },
  {
   "cell_type": "code",
   "execution_count": 56,
   "metadata": {},
   "outputs": [],
   "source": [
    "resoluciones = []\n",
    "for document in documents:\n",
    "    response = structured_llm.invoke(document.page_content)\n",
    "    try:\n",
    "        resoluciones.extend(response.resoluciones)\n",
    "    except:\n",
    "        print(f\"No se ha podido extraer la información de la resolución {response}\")"
   ]
  },
  {
   "cell_type": "code",
   "execution_count": 57,
   "metadata": {},
   "outputs": [
    {
     "data": {
      "text/plain": [
       "1715"
      ]
     },
     "execution_count": 57,
     "metadata": {},
     "output_type": "execute_result"
    }
   ],
   "source": [
    "len(resoluciones)"
   ]
  },
  {
   "cell_type": "code",
   "execution_count": 58,
   "metadata": {},
   "outputs": [],
   "source": [
    "from pymongo import MongoClient\n",
    "import os\n",
    "\n",
    "from dotenv import load_dotenv\n",
    "\n",
    "load_dotenv()\n",
    "\n",
    "client_db = MongoClient(MONGO_URL)\n",
    "db = client_db[DB_NAME]\n",
    "collection = db[\"resoluciones\"]"
   ]
  },
  {
   "cell_type": "code",
   "execution_count": 59,
   "metadata": {},
   "outputs": [],
   "source": [
    "import json\n",
    "\n",
    "\n",
    "resoluciones_dict = [json.loads(resolucion.model_dump_json()) for resolucion in resoluciones]"
   ]
  },
  {
   "cell_type": "code",
   "execution_count": 60,
   "metadata": {},
   "outputs": [
    {
     "data": {
      "text/plain": [
       "InsertManyResult([ObjectId('67b478394a7ebd69a888bdad'), ObjectId('67b478394a7ebd69a888bdae'), ObjectId('67b478394a7ebd69a888bdaf'), ObjectId('67b478394a7ebd69a888bdb0'), ObjectId('67b478394a7ebd69a888bdb1'), ObjectId('67b478394a7ebd69a888bdb2'), ObjectId('67b478394a7ebd69a888bdb3'), ObjectId('67b478394a7ebd69a888bdb4'), ObjectId('67b478394a7ebd69a888bdb5'), ObjectId('67b478394a7ebd69a888bdb6'), ObjectId('67b478394a7ebd69a888bdb7'), ObjectId('67b478394a7ebd69a888bdb8'), ObjectId('67b478394a7ebd69a888bdb9'), ObjectId('67b478394a7ebd69a888bdba'), ObjectId('67b478394a7ebd69a888bdbb'), ObjectId('67b478394a7ebd69a888bdbc'), ObjectId('67b478394a7ebd69a888bdbd'), ObjectId('67b478394a7ebd69a888bdbe'), ObjectId('67b478394a7ebd69a888bdbf'), ObjectId('67b478394a7ebd69a888bdc0'), ObjectId('67b478394a7ebd69a888bdc1'), ObjectId('67b478394a7ebd69a888bdc2'), ObjectId('67b478394a7ebd69a888bdc3'), ObjectId('67b478394a7ebd69a888bdc4'), ObjectId('67b478394a7ebd69a888bdc5'), ObjectId('67b478394a7ebd69a888bdc6'), ObjectId('67b478394a7ebd69a888bdc7'), ObjectId('67b478394a7ebd69a888bdc8'), ObjectId('67b478394a7ebd69a888bdc9'), ObjectId('67b478394a7ebd69a888bdca'), ObjectId('67b478394a7ebd69a888bdcb'), ObjectId('67b478394a7ebd69a888bdcc'), ObjectId('67b478394a7ebd69a888bdcd'), ObjectId('67b478394a7ebd69a888bdce'), ObjectId('67b478394a7ebd69a888bdcf'), ObjectId('67b478394a7ebd69a888bdd0'), ObjectId('67b478394a7ebd69a888bdd1'), ObjectId('67b478394a7ebd69a888bdd2'), ObjectId('67b478394a7ebd69a888bdd3'), ObjectId('67b478394a7ebd69a888bdd4'), ObjectId('67b478394a7ebd69a888bdd5'), ObjectId('67b478394a7ebd69a888bdd6'), ObjectId('67b478394a7ebd69a888bdd7'), ObjectId('67b478394a7ebd69a888bdd8'), ObjectId('67b478394a7ebd69a888bdd9'), ObjectId('67b478394a7ebd69a888bdda'), ObjectId('67b478394a7ebd69a888bddb'), ObjectId('67b478394a7ebd69a888bddc'), ObjectId('67b478394a7ebd69a888bddd'), ObjectId('67b478394a7ebd69a888bdde'), ObjectId('67b478394a7ebd69a888bddf'), ObjectId('67b478394a7ebd69a888bde0'), ObjectId('67b478394a7ebd69a888bde1'), ObjectId('67b478394a7ebd69a888bde2'), ObjectId('67b478394a7ebd69a888bde3'), ObjectId('67b478394a7ebd69a888bde4'), ObjectId('67b478394a7ebd69a888bde5'), ObjectId('67b478394a7ebd69a888bde6'), ObjectId('67b478394a7ebd69a888bde7'), ObjectId('67b478394a7ebd69a888bde8'), ObjectId('67b478394a7ebd69a888bde9'), ObjectId('67b478394a7ebd69a888bdea'), ObjectId('67b478394a7ebd69a888bdeb'), ObjectId('67b478394a7ebd69a888bdec'), ObjectId('67b478394a7ebd69a888bded'), ObjectId('67b478394a7ebd69a888bdee'), ObjectId('67b478394a7ebd69a888bdef'), ObjectId('67b478394a7ebd69a888bdf0'), ObjectId('67b478394a7ebd69a888bdf1'), ObjectId('67b478394a7ebd69a888bdf2'), ObjectId('67b478394a7ebd69a888bdf3'), ObjectId('67b478394a7ebd69a888bdf4'), ObjectId('67b478394a7ebd69a888bdf5'), ObjectId('67b478394a7ebd69a888bdf6'), ObjectId('67b478394a7ebd69a888bdf7'), ObjectId('67b478394a7ebd69a888bdf8'), ObjectId('67b478394a7ebd69a888bdf9'), ObjectId('67b478394a7ebd69a888bdfa'), ObjectId('67b478394a7ebd69a888bdfb'), ObjectId('67b478394a7ebd69a888bdfc'), ObjectId('67b478394a7ebd69a888bdfd'), ObjectId('67b478394a7ebd69a888bdfe'), ObjectId('67b478394a7ebd69a888bdff'), ObjectId('67b478394a7ebd69a888be00'), ObjectId('67b478394a7ebd69a888be01'), ObjectId('67b478394a7ebd69a888be02'), ObjectId('67b478394a7ebd69a888be03'), ObjectId('67b478394a7ebd69a888be04'), ObjectId('67b478394a7ebd69a888be05'), ObjectId('67b478394a7ebd69a888be06'), ObjectId('67b478394a7ebd69a888be07'), ObjectId('67b478394a7ebd69a888be08'), ObjectId('67b478394a7ebd69a888be09'), ObjectId('67b478394a7ebd69a888be0a'), ObjectId('67b478394a7ebd69a888be0b'), ObjectId('67b478394a7ebd69a888be0c'), ObjectId('67b478394a7ebd69a888be0d'), ObjectId('67b478394a7ebd69a888be0e'), ObjectId('67b478394a7ebd69a888be0f'), ObjectId('67b478394a7ebd69a888be10'), ObjectId('67b478394a7ebd69a888be11'), ObjectId('67b478394a7ebd69a888be12'), ObjectId('67b478394a7ebd69a888be13'), ObjectId('67b478394a7ebd69a888be14'), ObjectId('67b478394a7ebd69a888be15'), ObjectId('67b478394a7ebd69a888be16'), ObjectId('67b478394a7ebd69a888be17'), ObjectId('67b478394a7ebd69a888be18'), ObjectId('67b478394a7ebd69a888be19'), ObjectId('67b478394a7ebd69a888be1a'), ObjectId('67b478394a7ebd69a888be1b'), ObjectId('67b478394a7ebd69a888be1c'), ObjectId('67b478394a7ebd69a888be1d'), ObjectId('67b478394a7ebd69a888be1e'), ObjectId('67b478394a7ebd69a888be1f'), ObjectId('67b478394a7ebd69a888be20'), ObjectId('67b478394a7ebd69a888be21'), ObjectId('67b478394a7ebd69a888be22'), ObjectId('67b478394a7ebd69a888be23'), ObjectId('67b478394a7ebd69a888be24'), ObjectId('67b478394a7ebd69a888be25'), ObjectId('67b478394a7ebd69a888be26'), ObjectId('67b478394a7ebd69a888be27'), ObjectId('67b478394a7ebd69a888be28'), ObjectId('67b478394a7ebd69a888be29'), ObjectId('67b478394a7ebd69a888be2a'), ObjectId('67b478394a7ebd69a888be2b'), ObjectId('67b478394a7ebd69a888be2c'), ObjectId('67b478394a7ebd69a888be2d'), ObjectId('67b478394a7ebd69a888be2e'), ObjectId('67b478394a7ebd69a888be2f'), ObjectId('67b478394a7ebd69a888be30'), ObjectId('67b478394a7ebd69a888be31'), ObjectId('67b478394a7ebd69a888be32'), ObjectId('67b478394a7ebd69a888be33'), ObjectId('67b478394a7ebd69a888be34'), ObjectId('67b478394a7ebd69a888be35'), ObjectId('67b478394a7ebd69a888be36'), ObjectId('67b478394a7ebd69a888be37'), ObjectId('67b478394a7ebd69a888be38'), ObjectId('67b478394a7ebd69a888be39'), ObjectId('67b478394a7ebd69a888be3a'), ObjectId('67b478394a7ebd69a888be3b'), ObjectId('67b478394a7ebd69a888be3c'), ObjectId('67b478394a7ebd69a888be3d'), ObjectId('67b478394a7ebd69a888be3e'), ObjectId('67b478394a7ebd69a888be3f'), ObjectId('67b478394a7ebd69a888be40'), ObjectId('67b478394a7ebd69a888be41'), ObjectId('67b478394a7ebd69a888be42'), ObjectId('67b478394a7ebd69a888be43'), ObjectId('67b478394a7ebd69a888be44'), ObjectId('67b478394a7ebd69a888be45'), ObjectId('67b478394a7ebd69a888be46'), ObjectId('67b478394a7ebd69a888be47'), ObjectId('67b478394a7ebd69a888be48'), ObjectId('67b478394a7ebd69a888be49'), ObjectId('67b478394a7ebd69a888be4a'), ObjectId('67b478394a7ebd69a888be4b'), ObjectId('67b478394a7ebd69a888be4c'), ObjectId('67b478394a7ebd69a888be4d'), ObjectId('67b478394a7ebd69a888be4e'), ObjectId('67b478394a7ebd69a888be4f'), ObjectId('67b478394a7ebd69a888be50'), ObjectId('67b478394a7ebd69a888be51'), ObjectId('67b478394a7ebd69a888be52'), ObjectId('67b478394a7ebd69a888be53'), ObjectId('67b478394a7ebd69a888be54'), ObjectId('67b478394a7ebd69a888be55'), ObjectId('67b478394a7ebd69a888be56'), ObjectId('67b478394a7ebd69a888be57'), ObjectId('67b478394a7ebd69a888be58'), ObjectId('67b478394a7ebd69a888be59'), ObjectId('67b478394a7ebd69a888be5a'), ObjectId('67b478394a7ebd69a888be5b'), ObjectId('67b478394a7ebd69a888be5c'), ObjectId('67b478394a7ebd69a888be5d'), ObjectId('67b478394a7ebd69a888be5e'), ObjectId('67b478394a7ebd69a888be5f'), ObjectId('67b478394a7ebd69a888be60'), ObjectId('67b478394a7ebd69a888be61'), ObjectId('67b478394a7ebd69a888be62'), ObjectId('67b478394a7ebd69a888be63'), ObjectId('67b478394a7ebd69a888be64'), ObjectId('67b478394a7ebd69a888be65'), ObjectId('67b478394a7ebd69a888be66'), ObjectId('67b478394a7ebd69a888be67'), ObjectId('67b478394a7ebd69a888be68'), ObjectId('67b478394a7ebd69a888be69'), ObjectId('67b478394a7ebd69a888be6a'), ObjectId('67b478394a7ebd69a888be6b'), ObjectId('67b478394a7ebd69a888be6c'), ObjectId('67b478394a7ebd69a888be6d'), ObjectId('67b478394a7ebd69a888be6e'), ObjectId('67b478394a7ebd69a888be6f'), ObjectId('67b478394a7ebd69a888be70'), ObjectId('67b478394a7ebd69a888be71'), ObjectId('67b478394a7ebd69a888be72'), ObjectId('67b478394a7ebd69a888be73'), ObjectId('67b478394a7ebd69a888be74'), ObjectId('67b478394a7ebd69a888be75'), ObjectId('67b478394a7ebd69a888be76'), ObjectId('67b478394a7ebd69a888be77'), ObjectId('67b478394a7ebd69a888be78'), ObjectId('67b478394a7ebd69a888be79'), ObjectId('67b478394a7ebd69a888be7a'), ObjectId('67b478394a7ebd69a888be7b'), ObjectId('67b478394a7ebd69a888be7c'), ObjectId('67b478394a7ebd69a888be7d'), ObjectId('67b478394a7ebd69a888be7e'), ObjectId('67b478394a7ebd69a888be7f'), ObjectId('67b478394a7ebd69a888be80'), ObjectId('67b478394a7ebd69a888be81'), ObjectId('67b478394a7ebd69a888be82'), ObjectId('67b478394a7ebd69a888be83'), ObjectId('67b478394a7ebd69a888be84'), ObjectId('67b478394a7ebd69a888be85'), ObjectId('67b478394a7ebd69a888be86'), ObjectId('67b478394a7ebd69a888be87'), ObjectId('67b478394a7ebd69a888be88'), ObjectId('67b478394a7ebd69a888be89'), ObjectId('67b478394a7ebd69a888be8a'), ObjectId('67b478394a7ebd69a888be8b'), ObjectId('67b478394a7ebd69a888be8c'), ObjectId('67b478394a7ebd69a888be8d'), ObjectId('67b478394a7ebd69a888be8e'), ObjectId('67b478394a7ebd69a888be8f'), ObjectId('67b478394a7ebd69a888be90'), ObjectId('67b478394a7ebd69a888be91'), ObjectId('67b478394a7ebd69a888be92'), ObjectId('67b478394a7ebd69a888be93'), ObjectId('67b478394a7ebd69a888be94'), ObjectId('67b478394a7ebd69a888be95'), ObjectId('67b478394a7ebd69a888be96'), ObjectId('67b478394a7ebd69a888be97'), ObjectId('67b478394a7ebd69a888be98'), ObjectId('67b478394a7ebd69a888be99'), ObjectId('67b478394a7ebd69a888be9a'), ObjectId('67b478394a7ebd69a888be9b'), ObjectId('67b478394a7ebd69a888be9c'), ObjectId('67b478394a7ebd69a888be9d'), ObjectId('67b478394a7ebd69a888be9e'), ObjectId('67b478394a7ebd69a888be9f'), ObjectId('67b478394a7ebd69a888bea0'), ObjectId('67b478394a7ebd69a888bea1'), ObjectId('67b478394a7ebd69a888bea2'), ObjectId('67b478394a7ebd69a888bea3'), ObjectId('67b478394a7ebd69a888bea4'), ObjectId('67b478394a7ebd69a888bea5'), ObjectId('67b478394a7ebd69a888bea6'), ObjectId('67b478394a7ebd69a888bea7'), ObjectId('67b478394a7ebd69a888bea8'), ObjectId('67b478394a7ebd69a888bea9'), ObjectId('67b478394a7ebd69a888beaa'), ObjectId('67b478394a7ebd69a888beab'), ObjectId('67b478394a7ebd69a888beac'), ObjectId('67b478394a7ebd69a888bead'), ObjectId('67b478394a7ebd69a888beae'), ObjectId('67b478394a7ebd69a888beaf'), ObjectId('67b478394a7ebd69a888beb0'), ObjectId('67b478394a7ebd69a888beb1'), ObjectId('67b478394a7ebd69a888beb2'), ObjectId('67b478394a7ebd69a888beb3'), ObjectId('67b478394a7ebd69a888beb4'), ObjectId('67b478394a7ebd69a888beb5'), ObjectId('67b478394a7ebd69a888beb6'), ObjectId('67b478394a7ebd69a888beb7'), ObjectId('67b478394a7ebd69a888beb8'), ObjectId('67b478394a7ebd69a888beb9'), ObjectId('67b478394a7ebd69a888beba'), ObjectId('67b478394a7ebd69a888bebb'), ObjectId('67b478394a7ebd69a888bebc'), ObjectId('67b478394a7ebd69a888bebd'), ObjectId('67b478394a7ebd69a888bebe'), ObjectId('67b478394a7ebd69a888bebf'), ObjectId('67b478394a7ebd69a888bec0'), ObjectId('67b478394a7ebd69a888bec1'), ObjectId('67b478394a7ebd69a888bec2'), ObjectId('67b478394a7ebd69a888bec3'), ObjectId('67b478394a7ebd69a888bec4'), ObjectId('67b478394a7ebd69a888bec5'), ObjectId('67b478394a7ebd69a888bec6'), ObjectId('67b478394a7ebd69a888bec7'), ObjectId('67b478394a7ebd69a888bec8'), ObjectId('67b478394a7ebd69a888bec9'), ObjectId('67b478394a7ebd69a888beca'), ObjectId('67b478394a7ebd69a888becb'), ObjectId('67b478394a7ebd69a888becc'), ObjectId('67b478394a7ebd69a888becd'), ObjectId('67b478394a7ebd69a888bece'), ObjectId('67b478394a7ebd69a888becf'), ObjectId('67b478394a7ebd69a888bed0'), ObjectId('67b478394a7ebd69a888bed1'), ObjectId('67b478394a7ebd69a888bed2'), ObjectId('67b478394a7ebd69a888bed3'), ObjectId('67b478394a7ebd69a888bed4'), ObjectId('67b478394a7ebd69a888bed5'), ObjectId('67b478394a7ebd69a888bed6'), ObjectId('67b478394a7ebd69a888bed7'), ObjectId('67b478394a7ebd69a888bed8'), ObjectId('67b478394a7ebd69a888bed9'), ObjectId('67b478394a7ebd69a888beda'), ObjectId('67b478394a7ebd69a888bedb'), ObjectId('67b478394a7ebd69a888bedc'), ObjectId('67b478394a7ebd69a888bedd'), ObjectId('67b478394a7ebd69a888bede'), ObjectId('67b478394a7ebd69a888bedf'), ObjectId('67b478394a7ebd69a888bee0'), ObjectId('67b478394a7ebd69a888bee1'), ObjectId('67b478394a7ebd69a888bee2'), ObjectId('67b478394a7ebd69a888bee3'), ObjectId('67b478394a7ebd69a888bee4'), ObjectId('67b478394a7ebd69a888bee5'), ObjectId('67b478394a7ebd69a888bee6'), ObjectId('67b478394a7ebd69a888bee7'), ObjectId('67b478394a7ebd69a888bee8'), ObjectId('67b478394a7ebd69a888bee9'), ObjectId('67b478394a7ebd69a888beea'), ObjectId('67b478394a7ebd69a888beeb'), ObjectId('67b478394a7ebd69a888beec'), ObjectId('67b478394a7ebd69a888beed'), ObjectId('67b478394a7ebd69a888beee'), ObjectId('67b478394a7ebd69a888beef'), ObjectId('67b478394a7ebd69a888bef0'), ObjectId('67b478394a7ebd69a888bef1'), ObjectId('67b478394a7ebd69a888bef2'), ObjectId('67b478394a7ebd69a888bef3'), ObjectId('67b478394a7ebd69a888bef4'), ObjectId('67b478394a7ebd69a888bef5'), ObjectId('67b478394a7ebd69a888bef6'), ObjectId('67b478394a7ebd69a888bef7'), ObjectId('67b478394a7ebd69a888bef8'), ObjectId('67b478394a7ebd69a888bef9'), ObjectId('67b478394a7ebd69a888befa'), ObjectId('67b478394a7ebd69a888befb'), ObjectId('67b478394a7ebd69a888befc'), ObjectId('67b478394a7ebd69a888befd'), ObjectId('67b478394a7ebd69a888befe'), ObjectId('67b478394a7ebd69a888beff'), ObjectId('67b478394a7ebd69a888bf00'), ObjectId('67b478394a7ebd69a888bf01'), ObjectId('67b478394a7ebd69a888bf02'), ObjectId('67b478394a7ebd69a888bf03'), ObjectId('67b478394a7ebd69a888bf04'), ObjectId('67b478394a7ebd69a888bf05'), ObjectId('67b478394a7ebd69a888bf06'), ObjectId('67b478394a7ebd69a888bf07'), ObjectId('67b478394a7ebd69a888bf08'), ObjectId('67b478394a7ebd69a888bf09'), ObjectId('67b478394a7ebd69a888bf0a'), ObjectId('67b478394a7ebd69a888bf0b'), ObjectId('67b478394a7ebd69a888bf0c'), ObjectId('67b478394a7ebd69a888bf0d'), ObjectId('67b478394a7ebd69a888bf0e'), ObjectId('67b478394a7ebd69a888bf0f'), ObjectId('67b478394a7ebd69a888bf10'), ObjectId('67b478394a7ebd69a888bf11'), ObjectId('67b478394a7ebd69a888bf12'), ObjectId('67b478394a7ebd69a888bf13'), ObjectId('67b478394a7ebd69a888bf14'), ObjectId('67b478394a7ebd69a888bf15'), ObjectId('67b478394a7ebd69a888bf16'), ObjectId('67b478394a7ebd69a888bf17'), ObjectId('67b478394a7ebd69a888bf18'), ObjectId('67b478394a7ebd69a888bf19'), ObjectId('67b478394a7ebd69a888bf1a'), ObjectId('67b478394a7ebd69a888bf1b'), ObjectId('67b478394a7ebd69a888bf1c'), ObjectId('67b478394a7ebd69a888bf1d'), ObjectId('67b478394a7ebd69a888bf1e'), ObjectId('67b478394a7ebd69a888bf1f'), ObjectId('67b478394a7ebd69a888bf20'), ObjectId('67b478394a7ebd69a888bf21'), ObjectId('67b478394a7ebd69a888bf22'), ObjectId('67b478394a7ebd69a888bf23'), ObjectId('67b478394a7ebd69a888bf24'), ObjectId('67b478394a7ebd69a888bf25'), ObjectId('67b478394a7ebd69a888bf26'), ObjectId('67b478394a7ebd69a888bf27'), ObjectId('67b478394a7ebd69a888bf28'), ObjectId('67b478394a7ebd69a888bf29'), ObjectId('67b478394a7ebd69a888bf2a'), ObjectId('67b478394a7ebd69a888bf2b'), ObjectId('67b478394a7ebd69a888bf2c'), ObjectId('67b478394a7ebd69a888bf2d'), ObjectId('67b478394a7ebd69a888bf2e'), ObjectId('67b478394a7ebd69a888bf2f'), ObjectId('67b478394a7ebd69a888bf30'), ObjectId('67b478394a7ebd69a888bf31'), ObjectId('67b478394a7ebd69a888bf32'), ObjectId('67b478394a7ebd69a888bf33'), ObjectId('67b478394a7ebd69a888bf34'), ObjectId('67b478394a7ebd69a888bf35'), ObjectId('67b478394a7ebd69a888bf36'), ObjectId('67b478394a7ebd69a888bf37'), ObjectId('67b478394a7ebd69a888bf38'), ObjectId('67b478394a7ebd69a888bf39'), ObjectId('67b478394a7ebd69a888bf3a'), ObjectId('67b478394a7ebd69a888bf3b'), ObjectId('67b478394a7ebd69a888bf3c'), ObjectId('67b478394a7ebd69a888bf3d'), ObjectId('67b478394a7ebd69a888bf3e'), ObjectId('67b478394a7ebd69a888bf3f'), ObjectId('67b478394a7ebd69a888bf40'), ObjectId('67b478394a7ebd69a888bf41'), ObjectId('67b478394a7ebd69a888bf42'), ObjectId('67b478394a7ebd69a888bf43'), ObjectId('67b478394a7ebd69a888bf44'), ObjectId('67b478394a7ebd69a888bf45'), ObjectId('67b478394a7ebd69a888bf46'), ObjectId('67b478394a7ebd69a888bf47'), ObjectId('67b478394a7ebd69a888bf48'), ObjectId('67b478394a7ebd69a888bf49'), ObjectId('67b478394a7ebd69a888bf4a'), ObjectId('67b478394a7ebd69a888bf4b'), ObjectId('67b478394a7ebd69a888bf4c'), ObjectId('67b478394a7ebd69a888bf4d'), ObjectId('67b478394a7ebd69a888bf4e'), ObjectId('67b478394a7ebd69a888bf4f'), ObjectId('67b478394a7ebd69a888bf50'), ObjectId('67b478394a7ebd69a888bf51'), ObjectId('67b478394a7ebd69a888bf52'), ObjectId('67b478394a7ebd69a888bf53'), ObjectId('67b478394a7ebd69a888bf54'), ObjectId('67b478394a7ebd69a888bf55'), ObjectId('67b478394a7ebd69a888bf56'), ObjectId('67b478394a7ebd69a888bf57'), ObjectId('67b478394a7ebd69a888bf58'), ObjectId('67b478394a7ebd69a888bf59'), ObjectId('67b478394a7ebd69a888bf5a'), ObjectId('67b478394a7ebd69a888bf5b'), ObjectId('67b478394a7ebd69a888bf5c'), ObjectId('67b478394a7ebd69a888bf5d'), ObjectId('67b478394a7ebd69a888bf5e'), ObjectId('67b478394a7ebd69a888bf5f'), ObjectId('67b478394a7ebd69a888bf60'), ObjectId('67b478394a7ebd69a888bf61'), ObjectId('67b478394a7ebd69a888bf62'), ObjectId('67b478394a7ebd69a888bf63'), ObjectId('67b478394a7ebd69a888bf64'), ObjectId('67b478394a7ebd69a888bf65'), ObjectId('67b478394a7ebd69a888bf66'), ObjectId('67b478394a7ebd69a888bf67'), ObjectId('67b478394a7ebd69a888bf68'), ObjectId('67b478394a7ebd69a888bf69'), ObjectId('67b478394a7ebd69a888bf6a'), ObjectId('67b478394a7ebd69a888bf6b'), ObjectId('67b478394a7ebd69a888bf6c'), ObjectId('67b478394a7ebd69a888bf6d'), ObjectId('67b478394a7ebd69a888bf6e'), ObjectId('67b478394a7ebd69a888bf6f'), ObjectId('67b478394a7ebd69a888bf70'), ObjectId('67b478394a7ebd69a888bf71'), ObjectId('67b478394a7ebd69a888bf72'), ObjectId('67b478394a7ebd69a888bf73'), ObjectId('67b478394a7ebd69a888bf74'), ObjectId('67b478394a7ebd69a888bf75'), ObjectId('67b478394a7ebd69a888bf76'), ObjectId('67b478394a7ebd69a888bf77'), ObjectId('67b478394a7ebd69a888bf78'), ObjectId('67b478394a7ebd69a888bf79'), ObjectId('67b478394a7ebd69a888bf7a'), ObjectId('67b478394a7ebd69a888bf7b'), ObjectId('67b478394a7ebd69a888bf7c'), ObjectId('67b478394a7ebd69a888bf7d'), ObjectId('67b478394a7ebd69a888bf7e'), ObjectId('67b478394a7ebd69a888bf7f'), ObjectId('67b478394a7ebd69a888bf80'), ObjectId('67b478394a7ebd69a888bf81'), ObjectId('67b478394a7ebd69a888bf82'), ObjectId('67b478394a7ebd69a888bf83'), ObjectId('67b478394a7ebd69a888bf84'), ObjectId('67b478394a7ebd69a888bf85'), ObjectId('67b478394a7ebd69a888bf86'), ObjectId('67b478394a7ebd69a888bf87'), ObjectId('67b478394a7ebd69a888bf88'), ObjectId('67b478394a7ebd69a888bf89'), ObjectId('67b478394a7ebd69a888bf8a'), ObjectId('67b478394a7ebd69a888bf8b'), ObjectId('67b478394a7ebd69a888bf8c'), ObjectId('67b478394a7ebd69a888bf8d'), ObjectId('67b478394a7ebd69a888bf8e'), ObjectId('67b478394a7ebd69a888bf8f'), ObjectId('67b478394a7ebd69a888bf90'), ObjectId('67b478394a7ebd69a888bf91'), ObjectId('67b478394a7ebd69a888bf92'), ObjectId('67b478394a7ebd69a888bf93'), ObjectId('67b478394a7ebd69a888bf94'), ObjectId('67b478394a7ebd69a888bf95'), ObjectId('67b478394a7ebd69a888bf96'), ObjectId('67b478394a7ebd69a888bf97'), ObjectId('67b478394a7ebd69a888bf98'), ObjectId('67b478394a7ebd69a888bf99'), ObjectId('67b478394a7ebd69a888bf9a'), ObjectId('67b478394a7ebd69a888bf9b'), ObjectId('67b478394a7ebd69a888bf9c'), ObjectId('67b478394a7ebd69a888bf9d'), ObjectId('67b478394a7ebd69a888bf9e'), ObjectId('67b478394a7ebd69a888bf9f'), ObjectId('67b478394a7ebd69a888bfa0'), ObjectId('67b478394a7ebd69a888bfa1'), ObjectId('67b478394a7ebd69a888bfa2'), ObjectId('67b478394a7ebd69a888bfa3'), ObjectId('67b478394a7ebd69a888bfa4'), ObjectId('67b478394a7ebd69a888bfa5'), ObjectId('67b478394a7ebd69a888bfa6'), ObjectId('67b478394a7ebd69a888bfa7'), ObjectId('67b478394a7ebd69a888bfa8'), ObjectId('67b478394a7ebd69a888bfa9'), ObjectId('67b478394a7ebd69a888bfaa'), ObjectId('67b478394a7ebd69a888bfab'), ObjectId('67b478394a7ebd69a888bfac'), ObjectId('67b478394a7ebd69a888bfad'), ObjectId('67b478394a7ebd69a888bfae'), ObjectId('67b478394a7ebd69a888bfaf'), ObjectId('67b478394a7ebd69a888bfb0'), ObjectId('67b478394a7ebd69a888bfb1'), ObjectId('67b478394a7ebd69a888bfb2'), ObjectId('67b478394a7ebd69a888bfb3'), ObjectId('67b478394a7ebd69a888bfb4'), ObjectId('67b478394a7ebd69a888bfb5'), ObjectId('67b478394a7ebd69a888bfb6'), ObjectId('67b478394a7ebd69a888bfb7'), ObjectId('67b478394a7ebd69a888bfb8'), ObjectId('67b478394a7ebd69a888bfb9'), ObjectId('67b478394a7ebd69a888bfba'), ObjectId('67b478394a7ebd69a888bfbb'), ObjectId('67b478394a7ebd69a888bfbc'), ObjectId('67b478394a7ebd69a888bfbd'), ObjectId('67b478394a7ebd69a888bfbe'), ObjectId('67b478394a7ebd69a888bfbf'), ObjectId('67b478394a7ebd69a888bfc0'), ObjectId('67b478394a7ebd69a888bfc1'), ObjectId('67b478394a7ebd69a888bfc2'), ObjectId('67b478394a7ebd69a888bfc3'), ObjectId('67b478394a7ebd69a888bfc4'), ObjectId('67b478394a7ebd69a888bfc5'), ObjectId('67b478394a7ebd69a888bfc6'), ObjectId('67b478394a7ebd69a888bfc7'), ObjectId('67b478394a7ebd69a888bfc8'), ObjectId('67b478394a7ebd69a888bfc9'), ObjectId('67b478394a7ebd69a888bfca'), ObjectId('67b478394a7ebd69a888bfcb'), ObjectId('67b478394a7ebd69a888bfcc'), ObjectId('67b478394a7ebd69a888bfcd'), ObjectId('67b478394a7ebd69a888bfce'), ObjectId('67b478394a7ebd69a888bfcf'), ObjectId('67b478394a7ebd69a888bfd0'), ObjectId('67b478394a7ebd69a888bfd1'), ObjectId('67b478394a7ebd69a888bfd2'), ObjectId('67b478394a7ebd69a888bfd3'), ObjectId('67b478394a7ebd69a888bfd4'), ObjectId('67b478394a7ebd69a888bfd5'), ObjectId('67b478394a7ebd69a888bfd6'), ObjectId('67b478394a7ebd69a888bfd7'), ObjectId('67b478394a7ebd69a888bfd8'), ObjectId('67b478394a7ebd69a888bfd9'), ObjectId('67b478394a7ebd69a888bfda'), ObjectId('67b478394a7ebd69a888bfdb'), ObjectId('67b478394a7ebd69a888bfdc'), ObjectId('67b478394a7ebd69a888bfdd'), ObjectId('67b478394a7ebd69a888bfde'), ObjectId('67b478394a7ebd69a888bfdf'), ObjectId('67b478394a7ebd69a888bfe0'), ObjectId('67b478394a7ebd69a888bfe1'), ObjectId('67b478394a7ebd69a888bfe2'), ObjectId('67b478394a7ebd69a888bfe3'), ObjectId('67b478394a7ebd69a888bfe4'), ObjectId('67b478394a7ebd69a888bfe5'), ObjectId('67b478394a7ebd69a888bfe6'), ObjectId('67b478394a7ebd69a888bfe7'), ObjectId('67b478394a7ebd69a888bfe8'), ObjectId('67b478394a7ebd69a888bfe9'), ObjectId('67b478394a7ebd69a888bfea'), ObjectId('67b478394a7ebd69a888bfeb'), ObjectId('67b478394a7ebd69a888bfec'), ObjectId('67b478394a7ebd69a888bfed'), ObjectId('67b478394a7ebd69a888bfee'), ObjectId('67b478394a7ebd69a888bfef'), ObjectId('67b478394a7ebd69a888bff0'), ObjectId('67b478394a7ebd69a888bff1'), ObjectId('67b478394a7ebd69a888bff2'), ObjectId('67b478394a7ebd69a888bff3'), ObjectId('67b478394a7ebd69a888bff4'), ObjectId('67b478394a7ebd69a888bff5'), ObjectId('67b478394a7ebd69a888bff6'), ObjectId('67b478394a7ebd69a888bff7'), ObjectId('67b478394a7ebd69a888bff8'), ObjectId('67b478394a7ebd69a888bff9'), ObjectId('67b478394a7ebd69a888bffa'), ObjectId('67b478394a7ebd69a888bffb'), ObjectId('67b478394a7ebd69a888bffc'), ObjectId('67b478394a7ebd69a888bffd'), ObjectId('67b478394a7ebd69a888bffe'), ObjectId('67b478394a7ebd69a888bfff'), ObjectId('67b478394a7ebd69a888c000'), ObjectId('67b478394a7ebd69a888c001'), ObjectId('67b478394a7ebd69a888c002'), ObjectId('67b478394a7ebd69a888c003'), ObjectId('67b478394a7ebd69a888c004'), ObjectId('67b478394a7ebd69a888c005'), ObjectId('67b478394a7ebd69a888c006'), ObjectId('67b478394a7ebd69a888c007'), ObjectId('67b478394a7ebd69a888c008'), ObjectId('67b478394a7ebd69a888c009'), ObjectId('67b478394a7ebd69a888c00a'), ObjectId('67b478394a7ebd69a888c00b'), ObjectId('67b478394a7ebd69a888c00c'), ObjectId('67b478394a7ebd69a888c00d'), ObjectId('67b478394a7ebd69a888c00e'), ObjectId('67b478394a7ebd69a888c00f'), ObjectId('67b478394a7ebd69a888c010'), ObjectId('67b478394a7ebd69a888c011'), ObjectId('67b478394a7ebd69a888c012'), ObjectId('67b478394a7ebd69a888c013'), ObjectId('67b478394a7ebd69a888c014'), ObjectId('67b478394a7ebd69a888c015'), ObjectId('67b478394a7ebd69a888c016'), ObjectId('67b478394a7ebd69a888c017'), ObjectId('67b478394a7ebd69a888c018'), ObjectId('67b478394a7ebd69a888c019'), ObjectId('67b478394a7ebd69a888c01a'), ObjectId('67b478394a7ebd69a888c01b'), ObjectId('67b478394a7ebd69a888c01c'), ObjectId('67b478394a7ebd69a888c01d'), ObjectId('67b478394a7ebd69a888c01e'), ObjectId('67b478394a7ebd69a888c01f'), ObjectId('67b478394a7ebd69a888c020'), ObjectId('67b478394a7ebd69a888c021'), ObjectId('67b478394a7ebd69a888c022'), ObjectId('67b478394a7ebd69a888c023'), ObjectId('67b478394a7ebd69a888c024'), ObjectId('67b478394a7ebd69a888c025'), ObjectId('67b478394a7ebd69a888c026'), ObjectId('67b478394a7ebd69a888c027'), ObjectId('67b478394a7ebd69a888c028'), ObjectId('67b478394a7ebd69a888c029'), ObjectId('67b478394a7ebd69a888c02a'), ObjectId('67b478394a7ebd69a888c02b'), ObjectId('67b478394a7ebd69a888c02c'), ObjectId('67b478394a7ebd69a888c02d'), ObjectId('67b478394a7ebd69a888c02e'), ObjectId('67b478394a7ebd69a888c02f'), ObjectId('67b478394a7ebd69a888c030'), ObjectId('67b478394a7ebd69a888c031'), ObjectId('67b478394a7ebd69a888c032'), ObjectId('67b478394a7ebd69a888c033'), ObjectId('67b478394a7ebd69a888c034'), ObjectId('67b478394a7ebd69a888c035'), ObjectId('67b478394a7ebd69a888c036'), ObjectId('67b478394a7ebd69a888c037'), ObjectId('67b478394a7ebd69a888c038'), ObjectId('67b478394a7ebd69a888c039'), ObjectId('67b478394a7ebd69a888c03a'), ObjectId('67b478394a7ebd69a888c03b'), ObjectId('67b478394a7ebd69a888c03c'), ObjectId('67b478394a7ebd69a888c03d'), ObjectId('67b478394a7ebd69a888c03e'), ObjectId('67b478394a7ebd69a888c03f'), ObjectId('67b478394a7ebd69a888c040'), ObjectId('67b478394a7ebd69a888c041'), ObjectId('67b478394a7ebd69a888c042'), ObjectId('67b478394a7ebd69a888c043'), ObjectId('67b478394a7ebd69a888c044'), ObjectId('67b478394a7ebd69a888c045'), ObjectId('67b478394a7ebd69a888c046'), ObjectId('67b478394a7ebd69a888c047'), ObjectId('67b478394a7ebd69a888c048'), ObjectId('67b478394a7ebd69a888c049'), ObjectId('67b478394a7ebd69a888c04a'), ObjectId('67b478394a7ebd69a888c04b'), ObjectId('67b478394a7ebd69a888c04c'), ObjectId('67b478394a7ebd69a888c04d'), ObjectId('67b478394a7ebd69a888c04e'), ObjectId('67b478394a7ebd69a888c04f'), ObjectId('67b478394a7ebd69a888c050'), ObjectId('67b478394a7ebd69a888c051'), ObjectId('67b478394a7ebd69a888c052'), ObjectId('67b478394a7ebd69a888c053'), ObjectId('67b478394a7ebd69a888c054'), ObjectId('67b478394a7ebd69a888c055'), ObjectId('67b478394a7ebd69a888c056'), ObjectId('67b478394a7ebd69a888c057'), ObjectId('67b478394a7ebd69a888c058'), ObjectId('67b478394a7ebd69a888c059'), ObjectId('67b478394a7ebd69a888c05a'), ObjectId('67b478394a7ebd69a888c05b'), ObjectId('67b478394a7ebd69a888c05c'), ObjectId('67b478394a7ebd69a888c05d'), ObjectId('67b478394a7ebd69a888c05e'), ObjectId('67b478394a7ebd69a888c05f'), ObjectId('67b478394a7ebd69a888c060'), ObjectId('67b478394a7ebd69a888c061'), ObjectId('67b478394a7ebd69a888c062'), ObjectId('67b478394a7ebd69a888c063'), ObjectId('67b478394a7ebd69a888c064'), ObjectId('67b478394a7ebd69a888c065'), ObjectId('67b478394a7ebd69a888c066'), ObjectId('67b478394a7ebd69a888c067'), ObjectId('67b478394a7ebd69a888c068'), ObjectId('67b478394a7ebd69a888c069'), ObjectId('67b478394a7ebd69a888c06a'), ObjectId('67b478394a7ebd69a888c06b'), ObjectId('67b478394a7ebd69a888c06c'), ObjectId('67b478394a7ebd69a888c06d'), ObjectId('67b478394a7ebd69a888c06e'), ObjectId('67b478394a7ebd69a888c06f'), ObjectId('67b478394a7ebd69a888c070'), ObjectId('67b478394a7ebd69a888c071'), ObjectId('67b478394a7ebd69a888c072'), ObjectId('67b478394a7ebd69a888c073'), ObjectId('67b478394a7ebd69a888c074'), ObjectId('67b478394a7ebd69a888c075'), ObjectId('67b478394a7ebd69a888c076'), ObjectId('67b478394a7ebd69a888c077'), ObjectId('67b478394a7ebd69a888c078'), ObjectId('67b478394a7ebd69a888c079'), ObjectId('67b478394a7ebd69a888c07a'), ObjectId('67b478394a7ebd69a888c07b'), ObjectId('67b478394a7ebd69a888c07c'), ObjectId('67b478394a7ebd69a888c07d'), ObjectId('67b478394a7ebd69a888c07e'), ObjectId('67b478394a7ebd69a888c07f'), ObjectId('67b478394a7ebd69a888c080'), ObjectId('67b478394a7ebd69a888c081'), ObjectId('67b478394a7ebd69a888c082'), ObjectId('67b478394a7ebd69a888c083'), ObjectId('67b478394a7ebd69a888c084'), ObjectId('67b478394a7ebd69a888c085'), ObjectId('67b478394a7ebd69a888c086'), ObjectId('67b478394a7ebd69a888c087'), ObjectId('67b478394a7ebd69a888c088'), ObjectId('67b478394a7ebd69a888c089'), ObjectId('67b478394a7ebd69a888c08a'), ObjectId('67b478394a7ebd69a888c08b'), ObjectId('67b478394a7ebd69a888c08c'), ObjectId('67b478394a7ebd69a888c08d'), ObjectId('67b478394a7ebd69a888c08e'), ObjectId('67b478394a7ebd69a888c08f'), ObjectId('67b478394a7ebd69a888c090'), ObjectId('67b478394a7ebd69a888c091'), ObjectId('67b478394a7ebd69a888c092'), ObjectId('67b478394a7ebd69a888c093'), ObjectId('67b478394a7ebd69a888c094'), ObjectId('67b478394a7ebd69a888c095'), ObjectId('67b478394a7ebd69a888c096'), ObjectId('67b478394a7ebd69a888c097'), ObjectId('67b478394a7ebd69a888c098'), ObjectId('67b478394a7ebd69a888c099'), ObjectId('67b478394a7ebd69a888c09a'), ObjectId('67b478394a7ebd69a888c09b'), ObjectId('67b478394a7ebd69a888c09c'), ObjectId('67b478394a7ebd69a888c09d'), ObjectId('67b478394a7ebd69a888c09e'), ObjectId('67b478394a7ebd69a888c09f'), ObjectId('67b478394a7ebd69a888c0a0'), ObjectId('67b478394a7ebd69a888c0a1'), ObjectId('67b478394a7ebd69a888c0a2'), ObjectId('67b478394a7ebd69a888c0a3'), ObjectId('67b478394a7ebd69a888c0a4'), ObjectId('67b478394a7ebd69a888c0a5'), ObjectId('67b478394a7ebd69a888c0a6'), ObjectId('67b478394a7ebd69a888c0a7'), ObjectId('67b478394a7ebd69a888c0a8'), ObjectId('67b478394a7ebd69a888c0a9'), ObjectId('67b478394a7ebd69a888c0aa'), ObjectId('67b478394a7ebd69a888c0ab'), ObjectId('67b478394a7ebd69a888c0ac'), ObjectId('67b478394a7ebd69a888c0ad'), ObjectId('67b478394a7ebd69a888c0ae'), ObjectId('67b478394a7ebd69a888c0af'), ObjectId('67b478394a7ebd69a888c0b0'), ObjectId('67b478394a7ebd69a888c0b1'), ObjectId('67b478394a7ebd69a888c0b2'), ObjectId('67b478394a7ebd69a888c0b3'), ObjectId('67b478394a7ebd69a888c0b4'), ObjectId('67b478394a7ebd69a888c0b5'), ObjectId('67b478394a7ebd69a888c0b6'), ObjectId('67b478394a7ebd69a888c0b7'), ObjectId('67b478394a7ebd69a888c0b8'), ObjectId('67b478394a7ebd69a888c0b9'), ObjectId('67b478394a7ebd69a888c0ba'), ObjectId('67b478394a7ebd69a888c0bb'), ObjectId('67b478394a7ebd69a888c0bc'), ObjectId('67b478394a7ebd69a888c0bd'), ObjectId('67b478394a7ebd69a888c0be'), ObjectId('67b478394a7ebd69a888c0bf'), ObjectId('67b478394a7ebd69a888c0c0'), ObjectId('67b478394a7ebd69a888c0c1'), ObjectId('67b478394a7ebd69a888c0c2'), ObjectId('67b478394a7ebd69a888c0c3'), ObjectId('67b478394a7ebd69a888c0c4'), ObjectId('67b478394a7ebd69a888c0c5'), ObjectId('67b478394a7ebd69a888c0c6'), ObjectId('67b478394a7ebd69a888c0c7'), ObjectId('67b478394a7ebd69a888c0c8'), ObjectId('67b478394a7ebd69a888c0c9'), ObjectId('67b478394a7ebd69a888c0ca'), ObjectId('67b478394a7ebd69a888c0cb'), ObjectId('67b478394a7ebd69a888c0cc'), ObjectId('67b478394a7ebd69a888c0cd'), ObjectId('67b478394a7ebd69a888c0ce'), ObjectId('67b478394a7ebd69a888c0cf'), ObjectId('67b478394a7ebd69a888c0d0'), ObjectId('67b478394a7ebd69a888c0d1'), ObjectId('67b478394a7ebd69a888c0d2'), ObjectId('67b478394a7ebd69a888c0d3'), ObjectId('67b478394a7ebd69a888c0d4'), ObjectId('67b478394a7ebd69a888c0d5'), ObjectId('67b478394a7ebd69a888c0d6'), ObjectId('67b478394a7ebd69a888c0d7'), ObjectId('67b478394a7ebd69a888c0d8'), ObjectId('67b478394a7ebd69a888c0d9'), ObjectId('67b478394a7ebd69a888c0da'), ObjectId('67b478394a7ebd69a888c0db'), ObjectId('67b478394a7ebd69a888c0dc'), ObjectId('67b478394a7ebd69a888c0dd'), ObjectId('67b478394a7ebd69a888c0de'), ObjectId('67b478394a7ebd69a888c0df'), ObjectId('67b478394a7ebd69a888c0e0'), ObjectId('67b478394a7ebd69a888c0e1'), ObjectId('67b478394a7ebd69a888c0e2'), ObjectId('67b478394a7ebd69a888c0e3'), ObjectId('67b478394a7ebd69a888c0e4'), ObjectId('67b478394a7ebd69a888c0e5'), ObjectId('67b478394a7ebd69a888c0e6'), ObjectId('67b478394a7ebd69a888c0e7'), ObjectId('67b478394a7ebd69a888c0e8'), ObjectId('67b478394a7ebd69a888c0e9'), ObjectId('67b478394a7ebd69a888c0ea'), ObjectId('67b478394a7ebd69a888c0eb'), ObjectId('67b478394a7ebd69a888c0ec'), ObjectId('67b478394a7ebd69a888c0ed'), ObjectId('67b478394a7ebd69a888c0ee'), ObjectId('67b478394a7ebd69a888c0ef'), ObjectId('67b478394a7ebd69a888c0f0'), ObjectId('67b478394a7ebd69a888c0f1'), ObjectId('67b478394a7ebd69a888c0f2'), ObjectId('67b478394a7ebd69a888c0f3'), ObjectId('67b478394a7ebd69a888c0f4'), ObjectId('67b478394a7ebd69a888c0f5'), ObjectId('67b478394a7ebd69a888c0f6'), ObjectId('67b478394a7ebd69a888c0f7'), ObjectId('67b478394a7ebd69a888c0f8'), ObjectId('67b478394a7ebd69a888c0f9'), ObjectId('67b478394a7ebd69a888c0fa'), ObjectId('67b478394a7ebd69a888c0fb'), ObjectId('67b478394a7ebd69a888c0fc'), ObjectId('67b478394a7ebd69a888c0fd'), ObjectId('67b478394a7ebd69a888c0fe'), ObjectId('67b478394a7ebd69a888c0ff'), ObjectId('67b478394a7ebd69a888c100'), ObjectId('67b478394a7ebd69a888c101'), ObjectId('67b478394a7ebd69a888c102'), ObjectId('67b478394a7ebd69a888c103'), ObjectId('67b478394a7ebd69a888c104'), ObjectId('67b478394a7ebd69a888c105'), ObjectId('67b478394a7ebd69a888c106'), ObjectId('67b478394a7ebd69a888c107'), ObjectId('67b478394a7ebd69a888c108'), ObjectId('67b478394a7ebd69a888c109'), ObjectId('67b478394a7ebd69a888c10a'), ObjectId('67b478394a7ebd69a888c10b'), ObjectId('67b478394a7ebd69a888c10c'), ObjectId('67b478394a7ebd69a888c10d'), ObjectId('67b478394a7ebd69a888c10e'), ObjectId('67b478394a7ebd69a888c10f'), ObjectId('67b478394a7ebd69a888c110'), ObjectId('67b478394a7ebd69a888c111'), ObjectId('67b478394a7ebd69a888c112'), ObjectId('67b478394a7ebd69a888c113'), ObjectId('67b478394a7ebd69a888c114'), ObjectId('67b478394a7ebd69a888c115'), ObjectId('67b478394a7ebd69a888c116'), ObjectId('67b478394a7ebd69a888c117'), ObjectId('67b478394a7ebd69a888c118'), ObjectId('67b478394a7ebd69a888c119'), ObjectId('67b478394a7ebd69a888c11a'), ObjectId('67b478394a7ebd69a888c11b'), ObjectId('67b478394a7ebd69a888c11c'), ObjectId('67b478394a7ebd69a888c11d'), ObjectId('67b478394a7ebd69a888c11e'), ObjectId('67b478394a7ebd69a888c11f'), ObjectId('67b478394a7ebd69a888c120'), ObjectId('67b478394a7ebd69a888c121'), ObjectId('67b478394a7ebd69a888c122'), ObjectId('67b478394a7ebd69a888c123'), ObjectId('67b478394a7ebd69a888c124'), ObjectId('67b478394a7ebd69a888c125'), ObjectId('67b478394a7ebd69a888c126'), ObjectId('67b478394a7ebd69a888c127'), ObjectId('67b478394a7ebd69a888c128'), ObjectId('67b478394a7ebd69a888c129'), ObjectId('67b478394a7ebd69a888c12a'), ObjectId('67b478394a7ebd69a888c12b'), ObjectId('67b478394a7ebd69a888c12c'), ObjectId('67b478394a7ebd69a888c12d'), ObjectId('67b478394a7ebd69a888c12e'), ObjectId('67b478394a7ebd69a888c12f'), ObjectId('67b478394a7ebd69a888c130'), ObjectId('67b478394a7ebd69a888c131'), ObjectId('67b478394a7ebd69a888c132'), ObjectId('67b478394a7ebd69a888c133'), ObjectId('67b478394a7ebd69a888c134'), ObjectId('67b478394a7ebd69a888c135'), ObjectId('67b478394a7ebd69a888c136'), ObjectId('67b478394a7ebd69a888c137'), ObjectId('67b478394a7ebd69a888c138'), ObjectId('67b478394a7ebd69a888c139'), ObjectId('67b478394a7ebd69a888c13a'), ObjectId('67b478394a7ebd69a888c13b'), ObjectId('67b478394a7ebd69a888c13c'), ObjectId('67b478394a7ebd69a888c13d'), ObjectId('67b478394a7ebd69a888c13e'), ObjectId('67b478394a7ebd69a888c13f'), ObjectId('67b478394a7ebd69a888c140'), ObjectId('67b478394a7ebd69a888c141'), ObjectId('67b478394a7ebd69a888c142'), ObjectId('67b478394a7ebd69a888c143'), ObjectId('67b478394a7ebd69a888c144'), ObjectId('67b478394a7ebd69a888c145'), ObjectId('67b478394a7ebd69a888c146'), ObjectId('67b478394a7ebd69a888c147'), ObjectId('67b478394a7ebd69a888c148'), ObjectId('67b478394a7ebd69a888c149'), ObjectId('67b478394a7ebd69a888c14a'), ObjectId('67b478394a7ebd69a888c14b'), ObjectId('67b478394a7ebd69a888c14c'), ObjectId('67b478394a7ebd69a888c14d'), ObjectId('67b478394a7ebd69a888c14e'), ObjectId('67b478394a7ebd69a888c14f'), ObjectId('67b478394a7ebd69a888c150'), ObjectId('67b478394a7ebd69a888c151'), ObjectId('67b478394a7ebd69a888c152'), ObjectId('67b478394a7ebd69a888c153'), ObjectId('67b478394a7ebd69a888c154'), ObjectId('67b478394a7ebd69a888c155'), ObjectId('67b478394a7ebd69a888c156'), ObjectId('67b478394a7ebd69a888c157'), ObjectId('67b478394a7ebd69a888c158'), ObjectId('67b478394a7ebd69a888c159'), ObjectId('67b478394a7ebd69a888c15a'), ObjectId('67b478394a7ebd69a888c15b'), ObjectId('67b478394a7ebd69a888c15c'), ObjectId('67b478394a7ebd69a888c15d'), ObjectId('67b478394a7ebd69a888c15e'), ObjectId('67b478394a7ebd69a888c15f'), ObjectId('67b478394a7ebd69a888c160'), ObjectId('67b478394a7ebd69a888c161'), ObjectId('67b478394a7ebd69a888c162'), ObjectId('67b478394a7ebd69a888c163'), ObjectId('67b478394a7ebd69a888c164'), ObjectId('67b478394a7ebd69a888c165'), ObjectId('67b478394a7ebd69a888c166'), ObjectId('67b478394a7ebd69a888c167'), ObjectId('67b478394a7ebd69a888c168'), ObjectId('67b478394a7ebd69a888c169'), ObjectId('67b478394a7ebd69a888c16a'), ObjectId('67b478394a7ebd69a888c16b'), ObjectId('67b478394a7ebd69a888c16c'), ObjectId('67b478394a7ebd69a888c16d'), ObjectId('67b478394a7ebd69a888c16e'), ObjectId('67b478394a7ebd69a888c16f'), ObjectId('67b478394a7ebd69a888c170'), ObjectId('67b478394a7ebd69a888c171'), ObjectId('67b478394a7ebd69a888c172'), ObjectId('67b478394a7ebd69a888c173'), ObjectId('67b478394a7ebd69a888c174'), ObjectId('67b478394a7ebd69a888c175'), ObjectId('67b478394a7ebd69a888c176'), ObjectId('67b478394a7ebd69a888c177'), ObjectId('67b478394a7ebd69a888c178'), ObjectId('67b478394a7ebd69a888c179'), ObjectId('67b478394a7ebd69a888c17a'), ObjectId('67b478394a7ebd69a888c17b'), ObjectId('67b478394a7ebd69a888c17c'), ObjectId('67b478394a7ebd69a888c17d'), ObjectId('67b478394a7ebd69a888c17e'), ObjectId('67b478394a7ebd69a888c17f'), ObjectId('67b478394a7ebd69a888c180'), ObjectId('67b478394a7ebd69a888c181'), ObjectId('67b478394a7ebd69a888c182'), ObjectId('67b478394a7ebd69a888c183'), ObjectId('67b478394a7ebd69a888c184'), ObjectId('67b478394a7ebd69a888c185'), ObjectId('67b478394a7ebd69a888c186'), ObjectId('67b478394a7ebd69a888c187'), ObjectId('67b478394a7ebd69a888c188'), ObjectId('67b478394a7ebd69a888c189'), ObjectId('67b478394a7ebd69a888c18a'), ObjectId('67b478394a7ebd69a888c18b'), ObjectId('67b478394a7ebd69a888c18c'), ObjectId('67b478394a7ebd69a888c18d'), ObjectId('67b478394a7ebd69a888c18e'), ObjectId('67b478394a7ebd69a888c18f'), ObjectId('67b478394a7ebd69a888c190'), ObjectId('67b478394a7ebd69a888c191'), ObjectId('67b478394a7ebd69a888c192'), ObjectId('67b478394a7ebd69a888c193'), ObjectId('67b478394a7ebd69a888c194'), ObjectId('67b478394a7ebd69a888c195'), ObjectId('67b478394a7ebd69a888c196'), ObjectId('67b478394a7ebd69a888c197'), ObjectId('67b478394a7ebd69a888c198'), ObjectId('67b478394a7ebd69a888c199'), ObjectId('67b478394a7ebd69a888c19a'), ObjectId('67b478394a7ebd69a888c19b'), ObjectId('67b478394a7ebd69a888c19c'), ObjectId('67b478394a7ebd69a888c19d'), ObjectId('67b478394a7ebd69a888c19e'), ObjectId('67b478394a7ebd69a888c19f'), ObjectId('67b478394a7ebd69a888c1a0'), ObjectId('67b478394a7ebd69a888c1a1'), ObjectId('67b478394a7ebd69a888c1a2'), ObjectId('67b478394a7ebd69a888c1a3'), ObjectId('67b478394a7ebd69a888c1a4'), ObjectId('67b478394a7ebd69a888c1a5'), ObjectId('67b478394a7ebd69a888c1a6'), ObjectId('67b478394a7ebd69a888c1a7'), ObjectId('67b478394a7ebd69a888c1a8'), ObjectId('67b478394a7ebd69a888c1a9'), ObjectId('67b478394a7ebd69a888c1aa'), ObjectId('67b478394a7ebd69a888c1ab'), ObjectId('67b478394a7ebd69a888c1ac'), ObjectId('67b478394a7ebd69a888c1ad'), ObjectId('67b478394a7ebd69a888c1ae'), ObjectId('67b478394a7ebd69a888c1af'), ObjectId('67b478394a7ebd69a888c1b0'), ObjectId('67b478394a7ebd69a888c1b1'), ObjectId('67b478394a7ebd69a888c1b2'), ObjectId('67b478394a7ebd69a888c1b3'), ObjectId('67b478394a7ebd69a888c1b4'), ObjectId('67b478394a7ebd69a888c1b5'), ObjectId('67b478394a7ebd69a888c1b6'), ObjectId('67b478394a7ebd69a888c1b7'), ObjectId('67b478394a7ebd69a888c1b8'), ObjectId('67b478394a7ebd69a888c1b9'), ObjectId('67b478394a7ebd69a888c1ba'), ObjectId('67b478394a7ebd69a888c1bb'), ObjectId('67b478394a7ebd69a888c1bc'), ObjectId('67b478394a7ebd69a888c1bd'), ObjectId('67b478394a7ebd69a888c1be'), ObjectId('67b478394a7ebd69a888c1bf'), ObjectId('67b478394a7ebd69a888c1c0'), ObjectId('67b478394a7ebd69a888c1c1'), ObjectId('67b478394a7ebd69a888c1c2'), ObjectId('67b478394a7ebd69a888c1c3'), ObjectId('67b478394a7ebd69a888c1c4'), ObjectId('67b478394a7ebd69a888c1c5'), ObjectId('67b478394a7ebd69a888c1c6'), ObjectId('67b478394a7ebd69a888c1c7'), ObjectId('67b478394a7ebd69a888c1c8'), ObjectId('67b478394a7ebd69a888c1c9'), ObjectId('67b478394a7ebd69a888c1ca'), ObjectId('67b478394a7ebd69a888c1cb'), ObjectId('67b478394a7ebd69a888c1cc'), ObjectId('67b478394a7ebd69a888c1cd'), ObjectId('67b478394a7ebd69a888c1ce'), ObjectId('67b478394a7ebd69a888c1cf'), ObjectId('67b478394a7ebd69a888c1d0'), ObjectId('67b478394a7ebd69a888c1d1'), ObjectId('67b478394a7ebd69a888c1d2'), ObjectId('67b478394a7ebd69a888c1d3'), ObjectId('67b478394a7ebd69a888c1d4'), ObjectId('67b478394a7ebd69a888c1d5'), ObjectId('67b478394a7ebd69a888c1d6'), ObjectId('67b478394a7ebd69a888c1d7'), ObjectId('67b478394a7ebd69a888c1d8'), ObjectId('67b478394a7ebd69a888c1d9'), ObjectId('67b478394a7ebd69a888c1da'), ObjectId('67b478394a7ebd69a888c1db'), ObjectId('67b478394a7ebd69a888c1dc'), ObjectId('67b478394a7ebd69a888c1dd'), ObjectId('67b478394a7ebd69a888c1de'), ObjectId('67b478394a7ebd69a888c1df'), ObjectId('67b478394a7ebd69a888c1e0'), ObjectId('67b478394a7ebd69a888c1e1'), ObjectId('67b478394a7ebd69a888c1e2'), ObjectId('67b478394a7ebd69a888c1e3'), ObjectId('67b478394a7ebd69a888c1e4'), ObjectId('67b478394a7ebd69a888c1e5'), ObjectId('67b478394a7ebd69a888c1e6'), ObjectId('67b478394a7ebd69a888c1e7'), ObjectId('67b478394a7ebd69a888c1e8'), ObjectId('67b478394a7ebd69a888c1e9'), ObjectId('67b478394a7ebd69a888c1ea'), ObjectId('67b478394a7ebd69a888c1eb'), ObjectId('67b478394a7ebd69a888c1ec'), ObjectId('67b478394a7ebd69a888c1ed'), ObjectId('67b478394a7ebd69a888c1ee'), ObjectId('67b478394a7ebd69a888c1ef'), ObjectId('67b478394a7ebd69a888c1f0'), ObjectId('67b478394a7ebd69a888c1f1'), ObjectId('67b478394a7ebd69a888c1f2'), ObjectId('67b478394a7ebd69a888c1f3'), ObjectId('67b478394a7ebd69a888c1f4'), ObjectId('67b478394a7ebd69a888c1f5'), ObjectId('67b478394a7ebd69a888c1f6'), ObjectId('67b478394a7ebd69a888c1f7'), ObjectId('67b478394a7ebd69a888c1f8'), ObjectId('67b478394a7ebd69a888c1f9'), ObjectId('67b478394a7ebd69a888c1fa'), ObjectId('67b478394a7ebd69a888c1fb'), ObjectId('67b478394a7ebd69a888c1fc'), ObjectId('67b478394a7ebd69a888c1fd'), ObjectId('67b478394a7ebd69a888c1fe'), ObjectId('67b478394a7ebd69a888c1ff'), ObjectId('67b478394a7ebd69a888c200'), ObjectId('67b478394a7ebd69a888c201'), ObjectId('67b478394a7ebd69a888c202'), ObjectId('67b478394a7ebd69a888c203'), ObjectId('67b478394a7ebd69a888c204'), ObjectId('67b478394a7ebd69a888c205'), ObjectId('67b478394a7ebd69a888c206'), ObjectId('67b478394a7ebd69a888c207'), ObjectId('67b478394a7ebd69a888c208'), ObjectId('67b478394a7ebd69a888c209'), ObjectId('67b478394a7ebd69a888c20a'), ObjectId('67b478394a7ebd69a888c20b'), ObjectId('67b478394a7ebd69a888c20c'), ObjectId('67b478394a7ebd69a888c20d'), ObjectId('67b478394a7ebd69a888c20e'), ObjectId('67b478394a7ebd69a888c20f'), ObjectId('67b478394a7ebd69a888c210'), ObjectId('67b478394a7ebd69a888c211'), ObjectId('67b478394a7ebd69a888c212'), ObjectId('67b478394a7ebd69a888c213'), ObjectId('67b478394a7ebd69a888c214'), ObjectId('67b478394a7ebd69a888c215'), ObjectId('67b478394a7ebd69a888c216'), ObjectId('67b478394a7ebd69a888c217'), ObjectId('67b478394a7ebd69a888c218'), ObjectId('67b478394a7ebd69a888c219'), ObjectId('67b478394a7ebd69a888c21a'), ObjectId('67b478394a7ebd69a888c21b'), ObjectId('67b478394a7ebd69a888c21c'), ObjectId('67b478394a7ebd69a888c21d'), ObjectId('67b478394a7ebd69a888c21e'), ObjectId('67b478394a7ebd69a888c21f'), ObjectId('67b478394a7ebd69a888c220'), ObjectId('67b478394a7ebd69a888c221'), ObjectId('67b478394a7ebd69a888c222'), ObjectId('67b478394a7ebd69a888c223'), ObjectId('67b478394a7ebd69a888c224'), ObjectId('67b478394a7ebd69a888c225'), ObjectId('67b478394a7ebd69a888c226'), ObjectId('67b478394a7ebd69a888c227'), ObjectId('67b478394a7ebd69a888c228'), ObjectId('67b478394a7ebd69a888c229'), ObjectId('67b478394a7ebd69a888c22a'), ObjectId('67b478394a7ebd69a888c22b'), ObjectId('67b478394a7ebd69a888c22c'), ObjectId('67b478394a7ebd69a888c22d'), ObjectId('67b478394a7ebd69a888c22e'), ObjectId('67b478394a7ebd69a888c22f'), ObjectId('67b478394a7ebd69a888c230'), ObjectId('67b478394a7ebd69a888c231'), ObjectId('67b478394a7ebd69a888c232'), ObjectId('67b478394a7ebd69a888c233'), ObjectId('67b478394a7ebd69a888c234'), ObjectId('67b478394a7ebd69a888c235'), ObjectId('67b478394a7ebd69a888c236'), ObjectId('67b478394a7ebd69a888c237'), ObjectId('67b478394a7ebd69a888c238'), ObjectId('67b478394a7ebd69a888c239'), ObjectId('67b478394a7ebd69a888c23a'), ObjectId('67b478394a7ebd69a888c23b'), ObjectId('67b478394a7ebd69a888c23c'), ObjectId('67b478394a7ebd69a888c23d'), ObjectId('67b478394a7ebd69a888c23e'), ObjectId('67b478394a7ebd69a888c23f'), ObjectId('67b478394a7ebd69a888c240'), ObjectId('67b478394a7ebd69a888c241'), ObjectId('67b478394a7ebd69a888c242'), ObjectId('67b478394a7ebd69a888c243'), ObjectId('67b478394a7ebd69a888c244'), ObjectId('67b478394a7ebd69a888c245'), ObjectId('67b478394a7ebd69a888c246'), ObjectId('67b478394a7ebd69a888c247'), ObjectId('67b478394a7ebd69a888c248'), ObjectId('67b478394a7ebd69a888c249'), ObjectId('67b478394a7ebd69a888c24a'), ObjectId('67b478394a7ebd69a888c24b'), ObjectId('67b478394a7ebd69a888c24c'), ObjectId('67b478394a7ebd69a888c24d'), ObjectId('67b478394a7ebd69a888c24e'), ObjectId('67b478394a7ebd69a888c24f'), ObjectId('67b478394a7ebd69a888c250'), ObjectId('67b478394a7ebd69a888c251'), ObjectId('67b478394a7ebd69a888c252'), ObjectId('67b478394a7ebd69a888c253'), ObjectId('67b478394a7ebd69a888c254'), ObjectId('67b478394a7ebd69a888c255'), ObjectId('67b478394a7ebd69a888c256'), ObjectId('67b478394a7ebd69a888c257'), ObjectId('67b478394a7ebd69a888c258'), ObjectId('67b478394a7ebd69a888c259'), ObjectId('67b478394a7ebd69a888c25a'), ObjectId('67b478394a7ebd69a888c25b'), ObjectId('67b478394a7ebd69a888c25c'), ObjectId('67b478394a7ebd69a888c25d'), ObjectId('67b478394a7ebd69a888c25e'), ObjectId('67b478394a7ebd69a888c25f'), ObjectId('67b478394a7ebd69a888c260'), ObjectId('67b478394a7ebd69a888c261'), ObjectId('67b478394a7ebd69a888c262'), ObjectId('67b478394a7ebd69a888c263'), ObjectId('67b478394a7ebd69a888c264'), ObjectId('67b478394a7ebd69a888c265'), ObjectId('67b478394a7ebd69a888c266'), ObjectId('67b478394a7ebd69a888c267'), ObjectId('67b478394a7ebd69a888c268'), ObjectId('67b478394a7ebd69a888c269'), ObjectId('67b478394a7ebd69a888c26a'), ObjectId('67b478394a7ebd69a888c26b'), ObjectId('67b478394a7ebd69a888c26c'), ObjectId('67b478394a7ebd69a888c26d'), ObjectId('67b478394a7ebd69a888c26e'), ObjectId('67b478394a7ebd69a888c26f'), ObjectId('67b478394a7ebd69a888c270'), ObjectId('67b478394a7ebd69a888c271'), ObjectId('67b478394a7ebd69a888c272'), ObjectId('67b478394a7ebd69a888c273'), ObjectId('67b478394a7ebd69a888c274'), ObjectId('67b478394a7ebd69a888c275'), ObjectId('67b478394a7ebd69a888c276'), ObjectId('67b478394a7ebd69a888c277'), ObjectId('67b478394a7ebd69a888c278'), ObjectId('67b478394a7ebd69a888c279'), ObjectId('67b478394a7ebd69a888c27a'), ObjectId('67b478394a7ebd69a888c27b'), ObjectId('67b478394a7ebd69a888c27c'), ObjectId('67b478394a7ebd69a888c27d'), ObjectId('67b478394a7ebd69a888c27e'), ObjectId('67b478394a7ebd69a888c27f'), ObjectId('67b478394a7ebd69a888c280'), ObjectId('67b478394a7ebd69a888c281'), ObjectId('67b478394a7ebd69a888c282'), ObjectId('67b478394a7ebd69a888c283'), ObjectId('67b478394a7ebd69a888c284'), ObjectId('67b478394a7ebd69a888c285'), ObjectId('67b478394a7ebd69a888c286'), ObjectId('67b478394a7ebd69a888c287'), ObjectId('67b478394a7ebd69a888c288'), ObjectId('67b478394a7ebd69a888c289'), ObjectId('67b478394a7ebd69a888c28a'), ObjectId('67b478394a7ebd69a888c28b'), ObjectId('67b478394a7ebd69a888c28c'), ObjectId('67b478394a7ebd69a888c28d'), ObjectId('67b478394a7ebd69a888c28e'), ObjectId('67b478394a7ebd69a888c28f'), ObjectId('67b478394a7ebd69a888c290'), ObjectId('67b478394a7ebd69a888c291'), ObjectId('67b478394a7ebd69a888c292'), ObjectId('67b478394a7ebd69a888c293'), ObjectId('67b478394a7ebd69a888c294'), ObjectId('67b478394a7ebd69a888c295'), ObjectId('67b478394a7ebd69a888c296'), ObjectId('67b478394a7ebd69a888c297'), ObjectId('67b478394a7ebd69a888c298'), ObjectId('67b478394a7ebd69a888c299'), ObjectId('67b478394a7ebd69a888c29a'), ObjectId('67b478394a7ebd69a888c29b'), ObjectId('67b478394a7ebd69a888c29c'), ObjectId('67b478394a7ebd69a888c29d'), ObjectId('67b478394a7ebd69a888c29e'), ObjectId('67b478394a7ebd69a888c29f'), ObjectId('67b478394a7ebd69a888c2a0'), ObjectId('67b478394a7ebd69a888c2a1'), ObjectId('67b478394a7ebd69a888c2a2'), ObjectId('67b478394a7ebd69a888c2a3'), ObjectId('67b478394a7ebd69a888c2a4'), ObjectId('67b478394a7ebd69a888c2a5'), ObjectId('67b478394a7ebd69a888c2a6'), ObjectId('67b478394a7ebd69a888c2a7'), ObjectId('67b478394a7ebd69a888c2a8'), ObjectId('67b478394a7ebd69a888c2a9'), ObjectId('67b478394a7ebd69a888c2aa'), ObjectId('67b478394a7ebd69a888c2ab'), ObjectId('67b478394a7ebd69a888c2ac'), ObjectId('67b478394a7ebd69a888c2ad'), ObjectId('67b478394a7ebd69a888c2ae'), ObjectId('67b478394a7ebd69a888c2af'), ObjectId('67b478394a7ebd69a888c2b0'), ObjectId('67b478394a7ebd69a888c2b1'), ObjectId('67b478394a7ebd69a888c2b2'), ObjectId('67b478394a7ebd69a888c2b3'), ObjectId('67b478394a7ebd69a888c2b4'), ObjectId('67b478394a7ebd69a888c2b5'), ObjectId('67b478394a7ebd69a888c2b6'), ObjectId('67b478394a7ebd69a888c2b7'), ObjectId('67b478394a7ebd69a888c2b8'), ObjectId('67b478394a7ebd69a888c2b9'), ObjectId('67b478394a7ebd69a888c2ba'), ObjectId('67b478394a7ebd69a888c2bb'), ObjectId('67b478394a7ebd69a888c2bc'), ObjectId('67b478394a7ebd69a888c2bd'), ObjectId('67b478394a7ebd69a888c2be'), ObjectId('67b478394a7ebd69a888c2bf'), ObjectId('67b478394a7ebd69a888c2c0'), ObjectId('67b478394a7ebd69a888c2c1'), ObjectId('67b478394a7ebd69a888c2c2'), ObjectId('67b478394a7ebd69a888c2c3'), ObjectId('67b478394a7ebd69a888c2c4'), ObjectId('67b478394a7ebd69a888c2c5'), ObjectId('67b478394a7ebd69a888c2c6'), ObjectId('67b478394a7ebd69a888c2c7'), ObjectId('67b478394a7ebd69a888c2c8'), ObjectId('67b478394a7ebd69a888c2c9'), ObjectId('67b478394a7ebd69a888c2ca'), ObjectId('67b478394a7ebd69a888c2cb'), ObjectId('67b478394a7ebd69a888c2cc'), ObjectId('67b478394a7ebd69a888c2cd'), ObjectId('67b478394a7ebd69a888c2ce'), ObjectId('67b478394a7ebd69a888c2cf'), ObjectId('67b478394a7ebd69a888c2d0'), ObjectId('67b478394a7ebd69a888c2d1'), ObjectId('67b478394a7ebd69a888c2d2'), ObjectId('67b478394a7ebd69a888c2d3'), ObjectId('67b478394a7ebd69a888c2d4'), ObjectId('67b478394a7ebd69a888c2d5'), ObjectId('67b478394a7ebd69a888c2d6'), ObjectId('67b478394a7ebd69a888c2d7'), ObjectId('67b478394a7ebd69a888c2d8'), ObjectId('67b478394a7ebd69a888c2d9'), ObjectId('67b478394a7ebd69a888c2da'), ObjectId('67b478394a7ebd69a888c2db'), ObjectId('67b478394a7ebd69a888c2dc'), ObjectId('67b478394a7ebd69a888c2dd'), ObjectId('67b478394a7ebd69a888c2de'), ObjectId('67b478394a7ebd69a888c2df'), ObjectId('67b478394a7ebd69a888c2e0'), ObjectId('67b478394a7ebd69a888c2e1'), ObjectId('67b478394a7ebd69a888c2e2'), ObjectId('67b478394a7ebd69a888c2e3'), ObjectId('67b478394a7ebd69a888c2e4'), ObjectId('67b478394a7ebd69a888c2e5'), ObjectId('67b478394a7ebd69a888c2e6'), ObjectId('67b478394a7ebd69a888c2e7'), ObjectId('67b478394a7ebd69a888c2e8'), ObjectId('67b478394a7ebd69a888c2e9'), ObjectId('67b478394a7ebd69a888c2ea'), ObjectId('67b478394a7ebd69a888c2eb'), ObjectId('67b478394a7ebd69a888c2ec'), ObjectId('67b478394a7ebd69a888c2ed'), ObjectId('67b478394a7ebd69a888c2ee'), ObjectId('67b478394a7ebd69a888c2ef'), ObjectId('67b478394a7ebd69a888c2f0'), ObjectId('67b478394a7ebd69a888c2f1'), ObjectId('67b478394a7ebd69a888c2f2'), ObjectId('67b478394a7ebd69a888c2f3'), ObjectId('67b478394a7ebd69a888c2f4'), ObjectId('67b478394a7ebd69a888c2f5'), ObjectId('67b478394a7ebd69a888c2f6'), ObjectId('67b478394a7ebd69a888c2f7'), ObjectId('67b478394a7ebd69a888c2f8'), ObjectId('67b478394a7ebd69a888c2f9'), ObjectId('67b478394a7ebd69a888c2fa'), ObjectId('67b478394a7ebd69a888c2fb'), ObjectId('67b478394a7ebd69a888c2fc'), ObjectId('67b478394a7ebd69a888c2fd'), ObjectId('67b478394a7ebd69a888c2fe'), ObjectId('67b478394a7ebd69a888c2ff'), ObjectId('67b478394a7ebd69a888c300'), ObjectId('67b478394a7ebd69a888c301'), ObjectId('67b478394a7ebd69a888c302'), ObjectId('67b478394a7ebd69a888c303'), ObjectId('67b478394a7ebd69a888c304'), ObjectId('67b478394a7ebd69a888c305'), ObjectId('67b478394a7ebd69a888c306'), ObjectId('67b478394a7ebd69a888c307'), ObjectId('67b478394a7ebd69a888c308'), ObjectId('67b478394a7ebd69a888c309'), ObjectId('67b478394a7ebd69a888c30a'), ObjectId('67b478394a7ebd69a888c30b'), ObjectId('67b478394a7ebd69a888c30c'), ObjectId('67b478394a7ebd69a888c30d'), ObjectId('67b478394a7ebd69a888c30e'), ObjectId('67b478394a7ebd69a888c30f'), ObjectId('67b478394a7ebd69a888c310'), ObjectId('67b478394a7ebd69a888c311'), ObjectId('67b478394a7ebd69a888c312'), ObjectId('67b478394a7ebd69a888c313'), ObjectId('67b478394a7ebd69a888c314'), ObjectId('67b478394a7ebd69a888c315'), ObjectId('67b478394a7ebd69a888c316'), ObjectId('67b478394a7ebd69a888c317'), ObjectId('67b478394a7ebd69a888c318'), ObjectId('67b478394a7ebd69a888c319'), ObjectId('67b478394a7ebd69a888c31a'), ObjectId('67b478394a7ebd69a888c31b'), ObjectId('67b478394a7ebd69a888c31c'), ObjectId('67b478394a7ebd69a888c31d'), ObjectId('67b478394a7ebd69a888c31e'), ObjectId('67b478394a7ebd69a888c31f'), ObjectId('67b478394a7ebd69a888c320'), ObjectId('67b478394a7ebd69a888c321'), ObjectId('67b478394a7ebd69a888c322'), ObjectId('67b478394a7ebd69a888c323'), ObjectId('67b478394a7ebd69a888c324'), ObjectId('67b478394a7ebd69a888c325'), ObjectId('67b478394a7ebd69a888c326'), ObjectId('67b478394a7ebd69a888c327'), ObjectId('67b478394a7ebd69a888c328'), ObjectId('67b478394a7ebd69a888c329'), ObjectId('67b478394a7ebd69a888c32a'), ObjectId('67b478394a7ebd69a888c32b'), ObjectId('67b478394a7ebd69a888c32c'), ObjectId('67b478394a7ebd69a888c32d'), ObjectId('67b478394a7ebd69a888c32e'), ObjectId('67b478394a7ebd69a888c32f'), ObjectId('67b478394a7ebd69a888c330'), ObjectId('67b478394a7ebd69a888c331'), ObjectId('67b478394a7ebd69a888c332'), ObjectId('67b478394a7ebd69a888c333'), ObjectId('67b478394a7ebd69a888c334'), ObjectId('67b478394a7ebd69a888c335'), ObjectId('67b478394a7ebd69a888c336'), ObjectId('67b478394a7ebd69a888c337'), ObjectId('67b478394a7ebd69a888c338'), ObjectId('67b478394a7ebd69a888c339'), ObjectId('67b478394a7ebd69a888c33a'), ObjectId('67b478394a7ebd69a888c33b'), ObjectId('67b478394a7ebd69a888c33c'), ObjectId('67b478394a7ebd69a888c33d'), ObjectId('67b478394a7ebd69a888c33e'), ObjectId('67b478394a7ebd69a888c33f'), ObjectId('67b478394a7ebd69a888c340'), ObjectId('67b478394a7ebd69a888c341'), ObjectId('67b478394a7ebd69a888c342'), ObjectId('67b478394a7ebd69a888c343'), ObjectId('67b478394a7ebd69a888c344'), ObjectId('67b478394a7ebd69a888c345'), ObjectId('67b478394a7ebd69a888c346'), ObjectId('67b478394a7ebd69a888c347'), ObjectId('67b478394a7ebd69a888c348'), ObjectId('67b478394a7ebd69a888c349'), ObjectId('67b478394a7ebd69a888c34a'), ObjectId('67b478394a7ebd69a888c34b'), ObjectId('67b478394a7ebd69a888c34c'), ObjectId('67b478394a7ebd69a888c34d'), ObjectId('67b478394a7ebd69a888c34e'), ObjectId('67b478394a7ebd69a888c34f'), ObjectId('67b478394a7ebd69a888c350'), ObjectId('67b478394a7ebd69a888c351'), ObjectId('67b478394a7ebd69a888c352'), ObjectId('67b478394a7ebd69a888c353'), ObjectId('67b478394a7ebd69a888c354'), ObjectId('67b478394a7ebd69a888c355'), ObjectId('67b478394a7ebd69a888c356'), ObjectId('67b478394a7ebd69a888c357'), ObjectId('67b478394a7ebd69a888c358'), ObjectId('67b478394a7ebd69a888c359'), ObjectId('67b478394a7ebd69a888c35a'), ObjectId('67b478394a7ebd69a888c35b'), ObjectId('67b478394a7ebd69a888c35c'), ObjectId('67b478394a7ebd69a888c35d'), ObjectId('67b478394a7ebd69a888c35e'), ObjectId('67b478394a7ebd69a888c35f'), ObjectId('67b478394a7ebd69a888c360'), ObjectId('67b478394a7ebd69a888c361'), ObjectId('67b478394a7ebd69a888c362'), ObjectId('67b478394a7ebd69a888c363'), ObjectId('67b478394a7ebd69a888c364'), ObjectId('67b478394a7ebd69a888c365'), ObjectId('67b478394a7ebd69a888c366'), ObjectId('67b478394a7ebd69a888c367'), ObjectId('67b478394a7ebd69a888c368'), ObjectId('67b478394a7ebd69a888c369'), ObjectId('67b478394a7ebd69a888c36a'), ObjectId('67b478394a7ebd69a888c36b'), ObjectId('67b478394a7ebd69a888c36c'), ObjectId('67b478394a7ebd69a888c36d'), ObjectId('67b478394a7ebd69a888c36e'), ObjectId('67b478394a7ebd69a888c36f'), ObjectId('67b478394a7ebd69a888c370'), ObjectId('67b478394a7ebd69a888c371'), ObjectId('67b478394a7ebd69a888c372'), ObjectId('67b478394a7ebd69a888c373'), ObjectId('67b478394a7ebd69a888c374'), ObjectId('67b478394a7ebd69a888c375'), ObjectId('67b478394a7ebd69a888c376'), ObjectId('67b478394a7ebd69a888c377'), ObjectId('67b478394a7ebd69a888c378'), ObjectId('67b478394a7ebd69a888c379'), ObjectId('67b478394a7ebd69a888c37a'), ObjectId('67b478394a7ebd69a888c37b'), ObjectId('67b478394a7ebd69a888c37c'), ObjectId('67b478394a7ebd69a888c37d'), ObjectId('67b478394a7ebd69a888c37e'), ObjectId('67b478394a7ebd69a888c37f'), ObjectId('67b478394a7ebd69a888c380'), ObjectId('67b478394a7ebd69a888c381'), ObjectId('67b478394a7ebd69a888c382'), ObjectId('67b478394a7ebd69a888c383'), ObjectId('67b478394a7ebd69a888c384'), ObjectId('67b478394a7ebd69a888c385'), ObjectId('67b478394a7ebd69a888c386'), ObjectId('67b478394a7ebd69a888c387'), ObjectId('67b478394a7ebd69a888c388'), ObjectId('67b478394a7ebd69a888c389'), ObjectId('67b478394a7ebd69a888c38a'), ObjectId('67b478394a7ebd69a888c38b'), ObjectId('67b478394a7ebd69a888c38c'), ObjectId('67b478394a7ebd69a888c38d'), ObjectId('67b478394a7ebd69a888c38e'), ObjectId('67b478394a7ebd69a888c38f'), ObjectId('67b478394a7ebd69a888c390'), ObjectId('67b478394a7ebd69a888c391'), ObjectId('67b478394a7ebd69a888c392'), ObjectId('67b478394a7ebd69a888c393'), ObjectId('67b478394a7ebd69a888c394'), ObjectId('67b478394a7ebd69a888c395'), ObjectId('67b478394a7ebd69a888c396'), ObjectId('67b478394a7ebd69a888c397'), ObjectId('67b478394a7ebd69a888c398'), ObjectId('67b478394a7ebd69a888c399'), ObjectId('67b478394a7ebd69a888c39a'), ObjectId('67b478394a7ebd69a888c39b'), ObjectId('67b478394a7ebd69a888c39c'), ObjectId('67b478394a7ebd69a888c39d'), ObjectId('67b478394a7ebd69a888c39e'), ObjectId('67b478394a7ebd69a888c39f'), ObjectId('67b478394a7ebd69a888c3a0'), ObjectId('67b478394a7ebd69a888c3a1'), ObjectId('67b478394a7ebd69a888c3a2'), ObjectId('67b478394a7ebd69a888c3a3'), ObjectId('67b478394a7ebd69a888c3a4'), ObjectId('67b478394a7ebd69a888c3a5'), ObjectId('67b478394a7ebd69a888c3a6'), ObjectId('67b478394a7ebd69a888c3a7'), ObjectId('67b478394a7ebd69a888c3a8'), ObjectId('67b478394a7ebd69a888c3a9'), ObjectId('67b478394a7ebd69a888c3aa'), ObjectId('67b478394a7ebd69a888c3ab'), ObjectId('67b478394a7ebd69a888c3ac'), ObjectId('67b478394a7ebd69a888c3ad'), ObjectId('67b478394a7ebd69a888c3ae'), ObjectId('67b478394a7ebd69a888c3af'), ObjectId('67b478394a7ebd69a888c3b0'), ObjectId('67b478394a7ebd69a888c3b1'), ObjectId('67b478394a7ebd69a888c3b2'), ObjectId('67b478394a7ebd69a888c3b3'), ObjectId('67b478394a7ebd69a888c3b4'), ObjectId('67b478394a7ebd69a888c3b5'), ObjectId('67b478394a7ebd69a888c3b6'), ObjectId('67b478394a7ebd69a888c3b7'), ObjectId('67b478394a7ebd69a888c3b8'), ObjectId('67b478394a7ebd69a888c3b9'), ObjectId('67b478394a7ebd69a888c3ba'), ObjectId('67b478394a7ebd69a888c3bb'), ObjectId('67b478394a7ebd69a888c3bc'), ObjectId('67b478394a7ebd69a888c3bd'), ObjectId('67b478394a7ebd69a888c3be'), ObjectId('67b478394a7ebd69a888c3bf'), ObjectId('67b478394a7ebd69a888c3c0'), ObjectId('67b478394a7ebd69a888c3c1'), ObjectId('67b478394a7ebd69a888c3c2'), ObjectId('67b478394a7ebd69a888c3c3'), ObjectId('67b478394a7ebd69a888c3c4'), ObjectId('67b478394a7ebd69a888c3c5'), ObjectId('67b478394a7ebd69a888c3c6'), ObjectId('67b478394a7ebd69a888c3c7'), ObjectId('67b478394a7ebd69a888c3c8'), ObjectId('67b478394a7ebd69a888c3c9'), ObjectId('67b478394a7ebd69a888c3ca'), ObjectId('67b478394a7ebd69a888c3cb'), ObjectId('67b478394a7ebd69a888c3cc'), ObjectId('67b478394a7ebd69a888c3cd'), ObjectId('67b478394a7ebd69a888c3ce'), ObjectId('67b478394a7ebd69a888c3cf'), ObjectId('67b478394a7ebd69a888c3d0'), ObjectId('67b478394a7ebd69a888c3d1'), ObjectId('67b478394a7ebd69a888c3d2'), ObjectId('67b478394a7ebd69a888c3d3'), ObjectId('67b478394a7ebd69a888c3d4'), ObjectId('67b478394a7ebd69a888c3d5'), ObjectId('67b478394a7ebd69a888c3d6'), ObjectId('67b478394a7ebd69a888c3d7'), ObjectId('67b478394a7ebd69a888c3d8'), ObjectId('67b478394a7ebd69a888c3d9'), ObjectId('67b478394a7ebd69a888c3da'), ObjectId('67b478394a7ebd69a888c3db'), ObjectId('67b478394a7ebd69a888c3dc'), ObjectId('67b478394a7ebd69a888c3dd'), ObjectId('67b478394a7ebd69a888c3de'), ObjectId('67b478394a7ebd69a888c3df'), ObjectId('67b478394a7ebd69a888c3e0'), ObjectId('67b478394a7ebd69a888c3e1'), ObjectId('67b478394a7ebd69a888c3e2'), ObjectId('67b478394a7ebd69a888c3e3'), ObjectId('67b478394a7ebd69a888c3e4'), ObjectId('67b478394a7ebd69a888c3e5'), ObjectId('67b478394a7ebd69a888c3e6'), ObjectId('67b478394a7ebd69a888c3e7'), ObjectId('67b478394a7ebd69a888c3e8'), ObjectId('67b478394a7ebd69a888c3e9'), ObjectId('67b478394a7ebd69a888c3ea'), ObjectId('67b478394a7ebd69a888c3eb'), ObjectId('67b478394a7ebd69a888c3ec'), ObjectId('67b478394a7ebd69a888c3ed'), ObjectId('67b478394a7ebd69a888c3ee'), ObjectId('67b478394a7ebd69a888c3ef'), ObjectId('67b478394a7ebd69a888c3f0'), ObjectId('67b478394a7ebd69a888c3f1'), ObjectId('67b478394a7ebd69a888c3f2'), ObjectId('67b478394a7ebd69a888c3f3'), ObjectId('67b478394a7ebd69a888c3f4'), ObjectId('67b478394a7ebd69a888c3f5'), ObjectId('67b478394a7ebd69a888c3f6'), ObjectId('67b478394a7ebd69a888c3f7'), ObjectId('67b478394a7ebd69a888c3f8'), ObjectId('67b478394a7ebd69a888c3f9'), ObjectId('67b478394a7ebd69a888c3fa'), ObjectId('67b478394a7ebd69a888c3fb'), ObjectId('67b478394a7ebd69a888c3fc'), ObjectId('67b478394a7ebd69a888c3fd'), ObjectId('67b478394a7ebd69a888c3fe'), ObjectId('67b478394a7ebd69a888c3ff'), ObjectId('67b478394a7ebd69a888c400'), ObjectId('67b478394a7ebd69a888c401'), ObjectId('67b478394a7ebd69a888c402'), ObjectId('67b478394a7ebd69a888c403'), ObjectId('67b478394a7ebd69a888c404'), ObjectId('67b478394a7ebd69a888c405'), ObjectId('67b478394a7ebd69a888c406'), ObjectId('67b478394a7ebd69a888c407'), ObjectId('67b478394a7ebd69a888c408'), ObjectId('67b478394a7ebd69a888c409'), ObjectId('67b478394a7ebd69a888c40a'), ObjectId('67b478394a7ebd69a888c40b'), ObjectId('67b478394a7ebd69a888c40c'), ObjectId('67b478394a7ebd69a888c40d'), ObjectId('67b478394a7ebd69a888c40e'), ObjectId('67b478394a7ebd69a888c40f'), ObjectId('67b478394a7ebd69a888c410'), ObjectId('67b478394a7ebd69a888c411'), ObjectId('67b478394a7ebd69a888c412'), ObjectId('67b478394a7ebd69a888c413'), ObjectId('67b478394a7ebd69a888c414'), ObjectId('67b478394a7ebd69a888c415'), ObjectId('67b478394a7ebd69a888c416'), ObjectId('67b478394a7ebd69a888c417'), ObjectId('67b478394a7ebd69a888c418'), ObjectId('67b478394a7ebd69a888c419'), ObjectId('67b478394a7ebd69a888c41a'), ObjectId('67b478394a7ebd69a888c41b'), ObjectId('67b478394a7ebd69a888c41c'), ObjectId('67b478394a7ebd69a888c41d'), ObjectId('67b478394a7ebd69a888c41e'), ObjectId('67b478394a7ebd69a888c41f'), ObjectId('67b478394a7ebd69a888c420'), ObjectId('67b478394a7ebd69a888c421'), ObjectId('67b478394a7ebd69a888c422'), ObjectId('67b478394a7ebd69a888c423'), ObjectId('67b478394a7ebd69a888c424'), ObjectId('67b478394a7ebd69a888c425'), ObjectId('67b478394a7ebd69a888c426'), ObjectId('67b478394a7ebd69a888c427'), ObjectId('67b478394a7ebd69a888c428'), ObjectId('67b478394a7ebd69a888c429'), ObjectId('67b478394a7ebd69a888c42a'), ObjectId('67b478394a7ebd69a888c42b'), ObjectId('67b478394a7ebd69a888c42c'), ObjectId('67b478394a7ebd69a888c42d'), ObjectId('67b478394a7ebd69a888c42e'), ObjectId('67b478394a7ebd69a888c42f'), ObjectId('67b478394a7ebd69a888c430'), ObjectId('67b478394a7ebd69a888c431'), ObjectId('67b478394a7ebd69a888c432'), ObjectId('67b478394a7ebd69a888c433'), ObjectId('67b478394a7ebd69a888c434'), ObjectId('67b478394a7ebd69a888c435'), ObjectId('67b478394a7ebd69a888c436'), ObjectId('67b478394a7ebd69a888c437'), ObjectId('67b478394a7ebd69a888c438'), ObjectId('67b478394a7ebd69a888c439'), ObjectId('67b478394a7ebd69a888c43a'), ObjectId('67b478394a7ebd69a888c43b'), ObjectId('67b478394a7ebd69a888c43c'), ObjectId('67b478394a7ebd69a888c43d'), ObjectId('67b478394a7ebd69a888c43e'), ObjectId('67b478394a7ebd69a888c43f'), ObjectId('67b478394a7ebd69a888c440'), ObjectId('67b478394a7ebd69a888c441'), ObjectId('67b478394a7ebd69a888c442'), ObjectId('67b478394a7ebd69a888c443'), ObjectId('67b478394a7ebd69a888c444'), ObjectId('67b478394a7ebd69a888c445'), ObjectId('67b478394a7ebd69a888c446'), ObjectId('67b478394a7ebd69a888c447'), ObjectId('67b478394a7ebd69a888c448'), ObjectId('67b478394a7ebd69a888c449'), ObjectId('67b478394a7ebd69a888c44a'), ObjectId('67b478394a7ebd69a888c44b'), ObjectId('67b478394a7ebd69a888c44c'), ObjectId('67b478394a7ebd69a888c44d'), ObjectId('67b478394a7ebd69a888c44e'), ObjectId('67b478394a7ebd69a888c44f'), ObjectId('67b478394a7ebd69a888c450'), ObjectId('67b478394a7ebd69a888c451'), ObjectId('67b478394a7ebd69a888c452'), ObjectId('67b478394a7ebd69a888c453'), ObjectId('67b478394a7ebd69a888c454'), ObjectId('67b478394a7ebd69a888c455'), ObjectId('67b478394a7ebd69a888c456'), ObjectId('67b478394a7ebd69a888c457'), ObjectId('67b478394a7ebd69a888c458'), ObjectId('67b478394a7ebd69a888c459'), ObjectId('67b478394a7ebd69a888c45a'), ObjectId('67b478394a7ebd69a888c45b'), ObjectId('67b478394a7ebd69a888c45c'), ObjectId('67b478394a7ebd69a888c45d'), ObjectId('67b478394a7ebd69a888c45e'), ObjectId('67b478394a7ebd69a888c45f')], acknowledged=True)"
      ]
     },
     "execution_count": 60,
     "metadata": {},
     "output_type": "execute_result"
    }
   ],
   "source": [
    "collection.insert_many(resoluciones_dict)"
   ]
  },
  {
   "cell_type": "code",
   "execution_count": 62,
   "metadata": {},
   "outputs": [
    {
     "name": "stdout",
     "output_type": "stream",
     "text": [
      "5975\n"
     ]
    }
   ],
   "source": [
    "print(collection.count_documents({})) "
   ]
  }
 ],
 "metadata": {
  "kernelspec": {
   "display_name": ".venv",
   "language": "python",
   "name": "python3"
  },
  "language_info": {
   "codemirror_mode": {
    "name": "ipython",
    "version": 3
   },
   "file_extension": ".py",
   "mimetype": "text/x-python",
   "name": "python",
   "nbconvert_exporter": "python",
   "pygments_lexer": "ipython3",
   "version": "3.10.15"
  }
 },
 "nbformat": 4,
 "nbformat_minor": 2
}
